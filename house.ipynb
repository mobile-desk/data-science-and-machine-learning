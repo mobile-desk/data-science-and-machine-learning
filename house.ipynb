{
 "cells": [
  {
   "cell_type": "markdown",
   "id": "b586ba5c-e1d5-4525-a26f-608fabab292d",
   "metadata": {},
   "source": [
    "### what features affect house prices"
   ]
  },
  {
   "cell_type": "code",
   "execution_count": 3,
   "id": "04f33167-bf22-44e8-85ab-f52c3f8a4fdc",
   "metadata": {},
   "outputs": [],
   "source": [
    "import pandas as pd\n",
    "import numpy as np\n",
    "import matplotlib.pyplot as plt\n",
    "import seaborn as sns\n",
    "import scipy.stats as stats\n",
    "import statsmodels.api as sm\n",
    "from sklearn.linear_model import LinearRegression\n",
    "from sklearn.model_selection import train_test_split"
   ]
  },
  {
   "cell_type": "markdown",
   "id": "2f025ca6-9659-4bee-a68a-bf4328dda893",
   "metadata": {
    "jp-MarkdownHeadingCollapsed": true
   },
   "source": [
    "# Exploratory Data Analysis"
   ]
  },
  {
   "cell_type": "code",
   "execution_count": 65,
   "id": "aec3165e-f491-4029-8220-d87006de4c36",
   "metadata": {},
   "outputs": [
    {
     "name": "stdout",
     "output_type": "stream",
     "text": [
      "        price  lotsize  bedrooms  bathrms  stories driveway  garagepl\n",
      "0     42000.0     5850         3        1        2      yes         1\n",
      "1     38500.0     4000         2        1        1      yes         0\n",
      "2     49500.0     3060         3        1        1      yes         0\n",
      "3     60500.0     6650         3        1        2      yes         0\n",
      "4     61000.0     6360         2        1        1      yes         0\n",
      "..        ...      ...       ...      ...      ...      ...       ...\n",
      "541   91500.0     4800         3        2        4      yes         0\n",
      "542   94000.0     6000         3        2        4      yes         0\n",
      "543  103000.0     6000         3        2        4      yes         1\n",
      "544  105000.0     6000         3        2        2      yes         1\n",
      "545  105000.0     6000         3        1        2      yes         1\n",
      "\n",
      "[546 rows x 7 columns]\n"
     ]
    }
   ],
   "source": [
    "df = pd.read_csv('housing.csv')\n",
    "print(df)"
   ]
  },
  {
   "cell_type": "code",
   "execution_count": 43,
   "id": "fc7bd39f-27f8-4ccc-978d-154714314484",
   "metadata": {},
   "outputs": [
    {
     "data": {
      "text/plain": [
       "Index(['price', 'lotsize', 'bedrooms', 'bathrms', 'stories', 'driveway',\n",
       "       'garagepl'],\n",
       "      dtype='object')"
      ]
     },
     "execution_count": 43,
     "metadata": {},
     "output_type": "execute_result"
    }
   ],
   "source": [
    "df.columns"
   ]
  },
  {
   "cell_type": "code",
   "execution_count": 46,
   "id": "68929058-f18b-48c1-b941-54ead4a66f89",
   "metadata": {},
   "outputs": [
    {
     "data": {
      "text/html": [
       "<div>\n",
       "<style scoped>\n",
       "    .dataframe tbody tr th:only-of-type {\n",
       "        vertical-align: middle;\n",
       "    }\n",
       "\n",
       "    .dataframe tbody tr th {\n",
       "        vertical-align: top;\n",
       "    }\n",
       "\n",
       "    .dataframe thead th {\n",
       "        text-align: right;\n",
       "    }\n",
       "</style>\n",
       "<table border=\"1\" class=\"dataframe\">\n",
       "  <thead>\n",
       "    <tr style=\"text-align: right;\">\n",
       "      <th></th>\n",
       "      <th>price</th>\n",
       "      <th>lotsize</th>\n",
       "      <th>bedrooms</th>\n",
       "      <th>bathrms</th>\n",
       "      <th>stories</th>\n",
       "      <th>driveway</th>\n",
       "      <th>garagepl</th>\n",
       "    </tr>\n",
       "  </thead>\n",
       "  <tbody>\n",
       "    <tr>\n",
       "      <th>0</th>\n",
       "      <td>42000.0</td>\n",
       "      <td>5850</td>\n",
       "      <td>3</td>\n",
       "      <td>1</td>\n",
       "      <td>2</td>\n",
       "      <td>yes</td>\n",
       "      <td>1</td>\n",
       "    </tr>\n",
       "    <tr>\n",
       "      <th>1</th>\n",
       "      <td>38500.0</td>\n",
       "      <td>4000</td>\n",
       "      <td>2</td>\n",
       "      <td>1</td>\n",
       "      <td>1</td>\n",
       "      <td>yes</td>\n",
       "      <td>0</td>\n",
       "    </tr>\n",
       "    <tr>\n",
       "      <th>2</th>\n",
       "      <td>49500.0</td>\n",
       "      <td>3060</td>\n",
       "      <td>3</td>\n",
       "      <td>1</td>\n",
       "      <td>1</td>\n",
       "      <td>yes</td>\n",
       "      <td>0</td>\n",
       "    </tr>\n",
       "    <tr>\n",
       "      <th>3</th>\n",
       "      <td>60500.0</td>\n",
       "      <td>6650</td>\n",
       "      <td>3</td>\n",
       "      <td>1</td>\n",
       "      <td>2</td>\n",
       "      <td>yes</td>\n",
       "      <td>0</td>\n",
       "    </tr>\n",
       "    <tr>\n",
       "      <th>4</th>\n",
       "      <td>61000.0</td>\n",
       "      <td>6360</td>\n",
       "      <td>2</td>\n",
       "      <td>1</td>\n",
       "      <td>1</td>\n",
       "      <td>yes</td>\n",
       "      <td>0</td>\n",
       "    </tr>\n",
       "    <tr>\n",
       "      <th>5</th>\n",
       "      <td>66000.0</td>\n",
       "      <td>4160</td>\n",
       "      <td>3</td>\n",
       "      <td>1</td>\n",
       "      <td>1</td>\n",
       "      <td>yes</td>\n",
       "      <td>0</td>\n",
       "    </tr>\n",
       "    <tr>\n",
       "      <th>6</th>\n",
       "      <td>66000.0</td>\n",
       "      <td>3880</td>\n",
       "      <td>3</td>\n",
       "      <td>2</td>\n",
       "      <td>2</td>\n",
       "      <td>yes</td>\n",
       "      <td>2</td>\n",
       "    </tr>\n",
       "    <tr>\n",
       "      <th>7</th>\n",
       "      <td>69000.0</td>\n",
       "      <td>4160</td>\n",
       "      <td>3</td>\n",
       "      <td>1</td>\n",
       "      <td>3</td>\n",
       "      <td>yes</td>\n",
       "      <td>0</td>\n",
       "    </tr>\n",
       "    <tr>\n",
       "      <th>8</th>\n",
       "      <td>83800.0</td>\n",
       "      <td>4800</td>\n",
       "      <td>3</td>\n",
       "      <td>1</td>\n",
       "      <td>1</td>\n",
       "      <td>yes</td>\n",
       "      <td>0</td>\n",
       "    </tr>\n",
       "    <tr>\n",
       "      <th>9</th>\n",
       "      <td>88500.0</td>\n",
       "      <td>5500</td>\n",
       "      <td>3</td>\n",
       "      <td>2</td>\n",
       "      <td>4</td>\n",
       "      <td>yes</td>\n",
       "      <td>1</td>\n",
       "    </tr>\n",
       "  </tbody>\n",
       "</table>\n",
       "</div>"
      ],
      "text/plain": [
       "     price  lotsize  bedrooms  bathrms  stories driveway  garagepl\n",
       "0  42000.0     5850         3        1        2      yes         1\n",
       "1  38500.0     4000         2        1        1      yes         0\n",
       "2  49500.0     3060         3        1        1      yes         0\n",
       "3  60500.0     6650         3        1        2      yes         0\n",
       "4  61000.0     6360         2        1        1      yes         0\n",
       "5  66000.0     4160         3        1        1      yes         0\n",
       "6  66000.0     3880         3        2        2      yes         2\n",
       "7  69000.0     4160         3        1        3      yes         0\n",
       "8  83800.0     4800         3        1        1      yes         0\n",
       "9  88500.0     5500         3        2        4      yes         1"
      ]
     },
     "execution_count": 46,
     "metadata": {},
     "output_type": "execute_result"
    }
   ],
   "source": [
    "df.head(10)"
   ]
  },
  {
   "cell_type": "markdown",
   "id": "3bc9b217-32e7-49de-92a3-0e30244c5db6",
   "metadata": {},
   "source": [
    "## Defining Independent and Dependent Variables"
   ]
  },
  {
   "cell_type": "code",
   "execution_count": 10,
   "id": "de29c522-4457-4fb1-b246-d9491e51956b",
   "metadata": {},
   "outputs": [],
   "source": [
    "# dependent = ['price']\n",
    "\n",
    "# independent = ['lotsize', 'bedrooms', 'bathrms', 'stories', 'driveway','recroom', 'fullbase', 'gashw', 'airco', 'garagepl', 'prefarea']"
   ]
  },
  {
   "cell_type": "markdown",
   "id": "b7ad20ad-9f67-4dd8-bbd0-21edf1df828c",
   "metadata": {},
   "source": [
    "## Data Exploration"
   ]
  },
  {
   "cell_type": "code",
   "execution_count": 11,
   "id": "18f4b983-6164-4aef-a030-466df922854e",
   "metadata": {},
   "outputs": [
    {
     "name": "stdout",
     "output_type": "stream",
     "text": [
      "<class 'pandas.core.frame.DataFrame'>\n",
      "RangeIndex: 546 entries, 0 to 545\n",
      "Data columns (total 12 columns):\n",
      " #   Column    Non-Null Count  Dtype  \n",
      "---  ------    --------------  -----  \n",
      " 0   price     546 non-null    float64\n",
      " 1   lotsize   546 non-null    int64  \n",
      " 2   bedrooms  546 non-null    int64  \n",
      " 3   bathrms   546 non-null    int64  \n",
      " 4   stories   546 non-null    int64  \n",
      " 5   driveway  546 non-null    object \n",
      " 6   recroom   546 non-null    object \n",
      " 7   fullbase  546 non-null    object \n",
      " 8   gashw     546 non-null    object \n",
      " 9   airco     546 non-null    object \n",
      " 10  garagepl  546 non-null    int64  \n",
      " 11  prefarea  546 non-null    object \n",
      "dtypes: float64(1), int64(5), object(6)\n",
      "memory usage: 51.3+ KB\n"
     ]
    }
   ],
   "source": [
    "df.info()"
   ]
  },
  {
   "cell_type": "code",
   "execution_count": 14,
   "id": "72a5a12b-5280-4d72-b08e-0af4f4147ec7",
   "metadata": {},
   "outputs": [
    {
     "data": {
      "text/plain": [
       "array(['yes', 'no'], dtype=object)"
      ]
     },
     "execution_count": 14,
     "metadata": {},
     "output_type": "execute_result"
    }
   ],
   "source": [
    "df['driveway'].unique() #get unique values of strings / objects"
   ]
  },
  {
   "cell_type": "markdown",
   "id": "ef13e5d5-717d-452d-ae37-0d19e5cb8649",
   "metadata": {},
   "source": [
    "### Handling Missing Data"
   ]
  },
  {
   "cell_type": "code",
   "execution_count": 15,
   "id": "1af27b6c-6203-4b20-ab5c-7e5b4f3b8a0b",
   "metadata": {},
   "outputs": [
    {
     "data": {
      "text/plain": [
       "price       0\n",
       "lotsize     0\n",
       "bedrooms    0\n",
       "bathrms     0\n",
       "stories     0\n",
       "driveway    0\n",
       "recroom     0\n",
       "fullbase    0\n",
       "gashw       0\n",
       "airco       0\n",
       "garagepl    0\n",
       "prefarea    0\n",
       "dtype: int64"
      ]
     },
     "execution_count": 15,
     "metadata": {},
     "output_type": "execute_result"
    }
   ],
   "source": [
    "df.isnull().sum()"
   ]
  },
  {
   "cell_type": "markdown",
   "id": "ea3d8c9d-a801-4ba4-86e4-9d690d44d2a2",
   "metadata": {},
   "source": [
    "### Data Exporation and Visualization"
   ]
  },
  {
   "cell_type": "code",
   "execution_count": 16,
   "id": "477dd6b4-4c07-4d9c-939d-7687f2fe2acf",
   "metadata": {},
   "outputs": [
    {
     "data": {
      "text/html": [
       "<div>\n",
       "<style scoped>\n",
       "    .dataframe tbody tr th:only-of-type {\n",
       "        vertical-align: middle;\n",
       "    }\n",
       "\n",
       "    .dataframe tbody tr th {\n",
       "        vertical-align: top;\n",
       "    }\n",
       "\n",
       "    .dataframe thead th {\n",
       "        text-align: right;\n",
       "    }\n",
       "</style>\n",
       "<table border=\"1\" class=\"dataframe\">\n",
       "  <thead>\n",
       "    <tr style=\"text-align: right;\">\n",
       "      <th></th>\n",
       "      <th>price</th>\n",
       "      <th>lotsize</th>\n",
       "      <th>bedrooms</th>\n",
       "      <th>bathrms</th>\n",
       "      <th>stories</th>\n",
       "      <th>garagepl</th>\n",
       "    </tr>\n",
       "  </thead>\n",
       "  <tbody>\n",
       "    <tr>\n",
       "      <th>count</th>\n",
       "      <td>546.000000</td>\n",
       "      <td>546.000000</td>\n",
       "      <td>546.000000</td>\n",
       "      <td>546.000000</td>\n",
       "      <td>546.000000</td>\n",
       "      <td>546.000000</td>\n",
       "    </tr>\n",
       "    <tr>\n",
       "      <th>mean</th>\n",
       "      <td>68121.597070</td>\n",
       "      <td>5150.265568</td>\n",
       "      <td>2.965201</td>\n",
       "      <td>1.285714</td>\n",
       "      <td>1.807692</td>\n",
       "      <td>0.692308</td>\n",
       "    </tr>\n",
       "    <tr>\n",
       "      <th>std</th>\n",
       "      <td>26702.670926</td>\n",
       "      <td>2168.158725</td>\n",
       "      <td>0.737388</td>\n",
       "      <td>0.502158</td>\n",
       "      <td>0.868203</td>\n",
       "      <td>0.861307</td>\n",
       "    </tr>\n",
       "    <tr>\n",
       "      <th>min</th>\n",
       "      <td>25000.000000</td>\n",
       "      <td>1650.000000</td>\n",
       "      <td>1.000000</td>\n",
       "      <td>1.000000</td>\n",
       "      <td>1.000000</td>\n",
       "      <td>0.000000</td>\n",
       "    </tr>\n",
       "    <tr>\n",
       "      <th>25%</th>\n",
       "      <td>49125.000000</td>\n",
       "      <td>3600.000000</td>\n",
       "      <td>2.000000</td>\n",
       "      <td>1.000000</td>\n",
       "      <td>1.000000</td>\n",
       "      <td>0.000000</td>\n",
       "    </tr>\n",
       "    <tr>\n",
       "      <th>50%</th>\n",
       "      <td>62000.000000</td>\n",
       "      <td>4600.000000</td>\n",
       "      <td>3.000000</td>\n",
       "      <td>1.000000</td>\n",
       "      <td>2.000000</td>\n",
       "      <td>0.000000</td>\n",
       "    </tr>\n",
       "    <tr>\n",
       "      <th>75%</th>\n",
       "      <td>82000.000000</td>\n",
       "      <td>6360.000000</td>\n",
       "      <td>3.000000</td>\n",
       "      <td>2.000000</td>\n",
       "      <td>2.000000</td>\n",
       "      <td>1.000000</td>\n",
       "    </tr>\n",
       "    <tr>\n",
       "      <th>max</th>\n",
       "      <td>190000.000000</td>\n",
       "      <td>16200.000000</td>\n",
       "      <td>6.000000</td>\n",
       "      <td>4.000000</td>\n",
       "      <td>4.000000</td>\n",
       "      <td>3.000000</td>\n",
       "    </tr>\n",
       "  </tbody>\n",
       "</table>\n",
       "</div>"
      ],
      "text/plain": [
       "               price       lotsize    bedrooms     bathrms     stories  \\\n",
       "count     546.000000    546.000000  546.000000  546.000000  546.000000   \n",
       "mean    68121.597070   5150.265568    2.965201    1.285714    1.807692   \n",
       "std     26702.670926   2168.158725    0.737388    0.502158    0.868203   \n",
       "min     25000.000000   1650.000000    1.000000    1.000000    1.000000   \n",
       "25%     49125.000000   3600.000000    2.000000    1.000000    1.000000   \n",
       "50%     62000.000000   4600.000000    3.000000    1.000000    2.000000   \n",
       "75%     82000.000000   6360.000000    3.000000    2.000000    2.000000   \n",
       "max    190000.000000  16200.000000    6.000000    4.000000    4.000000   \n",
       "\n",
       "         garagepl  \n",
       "count  546.000000  \n",
       "mean     0.692308  \n",
       "std      0.861307  \n",
       "min      0.000000  \n",
       "25%      0.000000  \n",
       "50%      0.000000  \n",
       "75%      1.000000  \n",
       "max      3.000000  "
      ]
     },
     "execution_count": 16,
     "metadata": {},
     "output_type": "execute_result"
    }
   ],
   "source": [
    "df.describe()"
   ]
  },
  {
   "cell_type": "code",
   "execution_count": 21,
   "id": "0af09d5f-34d0-4d06-9811-ec96bc56d548",
   "metadata": {},
   "outputs": [
    {
     "name": "stderr",
     "output_type": "stream",
     "text": [
      "C:\\Users\\obasi\\anaconda3\\Lib\\site-packages\\seaborn\\_oldcore.py:1119: FutureWarning: use_inf_as_na option is deprecated and will be removed in a future version. Convert inf values to NaN before operating instead.\n",
      "  with pd.option_context('mode.use_inf_as_na', True):\n"
     ]
    },
    {
     "data": {
      "image/png": "[encoded data removed]",
      "text/plain": [
       "<Figure size 640x480 with 1 Axes>"
      ]
     },
     "metadata": {},
     "output_type": "display_data"
    }
   ],
   "source": [
    "sns.histplot(df['price'], kde=True)\n",
    "plt.ylabel('frequency')\n",
    "plt.show()"
   ]
  },
  {
   "cell_type": "markdown",
   "id": "5e4c78f7-28df-4734-b46f-c34921c7cd74",
   "metadata": {},
   "source": [
    "### Inter-Quartile-Range for removing outliers"
   ]
  },
  {
   "cell_type": "code",
   "execution_count": 26,
   "id": "d9b40e65-8979-4777-bbba-e6c5f7c18cc9",
   "metadata": {},
   "outputs": [
    {
     "name": "stdout",
     "output_type": "stream",
     "text": [
      "Original data shape: (546, 12)\n",
      "New data shape without outliers: (531, 12)\n"
     ]
    }
   ],
   "source": [
    "Q1 = df['price'].quantile(0.25)\n",
    "Q3 = df['price'].quantile(0.75)\n",
    "\n",
    "IQR = Q3 - Q1 #remove values that are above the 75th percentile and below the 25th\n",
    "\n",
    "# Define the bounds for the outliers\n",
    "lower_bound = Q1 - 1.5 * IQR\n",
    "upper_bound = Q3 + 1.5 * IQR\n",
    "\n",
    "# Remove outliers\n",
    "df_no_outliers_1 = df[(df['price'] >= lower_bound) & (df['price'] <= upper_bound)]\n",
    "\n",
    "# Check the shape of the data before and after removal of outliers\n",
    "print(\"Original data shape:\", df.shape)\n",
    "print(\"New data shape without outliers:\", df_no_outliers_1.shape)"
   ]
  },
  {
   "cell_type": "code",
   "execution_count": 29,
   "id": "da27347b-12e8-42e1-a9ae-2b9b35362c35",
   "metadata": {},
   "outputs": [
    {
     "data": {
      "image/png": "[encoded data removed]",
      "text/plain": [
       "<Figure size 1000x600 with 1 Axes>"
      ]
     },
     "metadata": {},
     "output_type": "display_data"
    }
   ],
   "source": [
    "# use boxplot to detect outliers\n",
    "\n",
    "plt.figure(figsize=(10,6))\n",
    "sns.boxplot(x=df_no_outliers_1['price'], color='purple')\n",
    "plt.xlabel('Price')\n",
    "plt.show()"
   ]
  },
  {
   "cell_type": "code",
   "execution_count": 31,
   "id": "c01beb5d-3a94-4d05-bba3-0bb0c484c2d5",
   "metadata": {},
   "outputs": [
    {
     "name": "stdout",
     "output_type": "stream",
     "text": [
      "Original data shape: (531, 12)\n",
      "New data shape without outliers: (527, 12)\n"
     ]
    }
   ],
   "source": [
    "Q1 = df_no_outliers_1['price'].quantile(0.25)\n",
    "Q3 = df_no_outliers_1['price'].quantile(0.75)\n",
    "\n",
    "IQR = Q3 - Q1 #remove values that are above the 75th percentile and below the 25th\n",
    "\n",
    "# Define the bounds for the outliers\n",
    "lower_bound = Q1 - 1.5 * IQR\n",
    "upper_bound = Q3 + 1.5 * IQR\n",
    "\n",
    "# Remove outliers\n",
    "df_no_outliers_2 = df_no_outliers_1[(df_no_outliers_1['price'] >= lower_bound) & (df_no_outliers_1['price'] <= upper_bound)]\n",
    "\n",
    "# Check the shape of the data before and after removal of outliers\n",
    "print(\"Original data shape:\", df_no_outliers_1.shape)\n",
    "print(\"New data shape without outliers:\", df_no_outliers_2.shape)"
   ]
  },
  {
   "cell_type": "code",
   "execution_count": 79,
   "id": "e61c066f-235f-4087-a157-5862f9a4dcc9",
   "metadata": {},
   "outputs": [
    {
     "data": {
      "image/png": "[encoded data removed]",
      "text/plain": [
       "<Figure size 1000x600 with 1 Axes>"
      ]
     },
     "metadata": {},
     "output_type": "display_data"
    }
   ],
   "source": [
    "# use boxplot to detect outliers\n",
    "\n",
    "plt.figure(figsize=(10,6))\n",
    "sns.boxplot(y=df_no_outliers_2['price'], color='purple')\n",
    "plt.xlabel('Price')\n",
    "plt.show()"
   ]
  },
  {
   "cell_type": "code",
   "execution_count": 33,
   "id": "d93cfb31-94ee-4b8f-a449-addc3dd6e966",
   "metadata": {},
   "outputs": [],
   "source": [
    "df = df_no_outliers_2"
   ]
  },
  {
   "cell_type": "markdown",
   "id": "4e6b3b6e-0923-48af-be4c-0605dbb1b048",
   "metadata": {
    "jp-MarkdownHeadingCollapsed": true
   },
   "source": [
    "# Corellation Heatmap"
   ]
  },
  {
   "cell_type": "code",
   "execution_count": 47,
   "id": "3c714786-04e9-4dc9-8b3f-0d9f9241675a",
   "metadata": {},
   "outputs": [
    {
     "data": {
      "text/html": [
       "<div>\n",
       "<style scoped>\n",
       "    .dataframe tbody tr th:only-of-type {\n",
       "        vertical-align: middle;\n",
       "    }\n",
       "\n",
       "    .dataframe tbody tr th {\n",
       "        vertical-align: top;\n",
       "    }\n",
       "\n",
       "    .dataframe thead th {\n",
       "        text-align: right;\n",
       "    }\n",
       "</style>\n",
       "<table border=\"1\" class=\"dataframe\">\n",
       "  <thead>\n",
       "    <tr style=\"text-align: right;\">\n",
       "      <th></th>\n",
       "      <th>price</th>\n",
       "      <th>lotsize</th>\n",
       "      <th>bedrooms</th>\n",
       "      <th>bathrms</th>\n",
       "      <th>stories</th>\n",
       "      <th>garagepl</th>\n",
       "    </tr>\n",
       "  </thead>\n",
       "  <tbody>\n",
       "    <tr>\n",
       "      <th>price</th>\n",
       "      <td>1.000000</td>\n",
       "      <td>0.535796</td>\n",
       "      <td>0.366447</td>\n",
       "      <td>0.516719</td>\n",
       "      <td>0.421190</td>\n",
       "      <td>0.383302</td>\n",
       "    </tr>\n",
       "    <tr>\n",
       "      <th>lotsize</th>\n",
       "      <td>0.535796</td>\n",
       "      <td>1.000000</td>\n",
       "      <td>0.151851</td>\n",
       "      <td>0.193833</td>\n",
       "      <td>0.083675</td>\n",
       "      <td>0.352872</td>\n",
       "    </tr>\n",
       "    <tr>\n",
       "      <th>bedrooms</th>\n",
       "      <td>0.366447</td>\n",
       "      <td>0.151851</td>\n",
       "      <td>1.000000</td>\n",
       "      <td>0.373769</td>\n",
       "      <td>0.407974</td>\n",
       "      <td>0.139117</td>\n",
       "    </tr>\n",
       "    <tr>\n",
       "      <th>bathrms</th>\n",
       "      <td>0.516719</td>\n",
       "      <td>0.193833</td>\n",
       "      <td>0.373769</td>\n",
       "      <td>1.000000</td>\n",
       "      <td>0.324066</td>\n",
       "      <td>0.178178</td>\n",
       "    </tr>\n",
       "    <tr>\n",
       "      <th>stories</th>\n",
       "      <td>0.421190</td>\n",
       "      <td>0.083675</td>\n",
       "      <td>0.407974</td>\n",
       "      <td>0.324066</td>\n",
       "      <td>1.000000</td>\n",
       "      <td>0.043412</td>\n",
       "    </tr>\n",
       "    <tr>\n",
       "      <th>garagepl</th>\n",
       "      <td>0.383302</td>\n",
       "      <td>0.352872</td>\n",
       "      <td>0.139117</td>\n",
       "      <td>0.178178</td>\n",
       "      <td>0.043412</td>\n",
       "      <td>1.000000</td>\n",
       "    </tr>\n",
       "  </tbody>\n",
       "</table>\n",
       "</div>"
      ],
      "text/plain": [
       "             price   lotsize  bedrooms   bathrms   stories  garagepl\n",
       "price     1.000000  0.535796  0.366447  0.516719  0.421190  0.383302\n",
       "lotsize   0.535796  1.000000  0.151851  0.193833  0.083675  0.352872\n",
       "bedrooms  0.366447  0.151851  1.000000  0.373769  0.407974  0.139117\n",
       "bathrms   0.516719  0.193833  0.373769  1.000000  0.324066  0.178178\n",
       "stories   0.421190  0.083675  0.407974  0.324066  1.000000  0.043412\n",
       "garagepl  0.383302  0.352872  0.139117  0.178178  0.043412  1.000000"
      ]
     },
     "execution_count": 47,
     "metadata": {},
     "output_type": "execute_result"
    }
   ],
   "source": [
    "df.corr(numeric_only=True)"
   ]
  },
  {
   "cell_type": "code",
   "execution_count": 78,
   "id": "c0fc23d6-6c4a-4519-8f1f-a9bbb8a40e11",
   "metadata": {},
   "outputs": [
    {
     "data": {
      "image/png": "[encoded data removed]",
      "text/plain": [
       "<Figure size 1200x800 with 2 Axes>"
      ]
     },
     "metadata": {},
     "output_type": "display_data"
    }
   ],
   "source": [
    "plt.figure(figsize=(12, 8))\n",
    "sns.heatmap(df.corr(numeric_only=True), annot=True, cmap='Greens')\n",
    "plt.title('Correlation Heatmap of Housing Data')\n",
    "plt.show()"
   ]
  },
  {
   "cell_type": "markdown",
   "id": "2258519f-be85-4df8-b55e-f18dde922bdb",
   "metadata": {},
   "source": [
    "## Change text values to numericvalues"
   ]
  },
  {
   "cell_type": "code",
   "execution_count": 54,
   "id": "122d34d7-ad5a-4cc9-84e3-bf8829f9c355",
   "metadata": {},
   "outputs": [
    {
     "data": {
      "text/plain": [
       "Index(['price', 'lotsize', 'bedrooms', 'bathrms', 'stories', 'driveway',\n",
       "       'garagepl'],\n",
       "      dtype='object')"
      ]
     },
     "execution_count": 54,
     "metadata": {},
     "output_type": "execute_result"
    }
   ],
   "source": [
    "df.columns"
   ]
  },
  {
   "cell_type": "code",
   "execution_count": 70,
   "id": "21a9a874-6e32-4154-ae27-d8499df96a26",
   "metadata": {},
   "outputs": [],
   "source": [
    "####\n",
    "#change text to value\n",
    "#####\n",
    "\n",
    "#driveway_dummies = pd.get_dummies(df['driveway'], prefix='driveway')\n",
    "#df = pd.concat([df.drop(\"driveway\", axis =1), driveway_dummies], axis=1)\n",
    "#driveway_dummies\n",
    "\n",
    "df.replace('yes', 1, inplace=True)\n",
    "df.replace('no', 0, inplace=True)\n"
   ]
  },
  {
   "cell_type": "code",
   "execution_count": 68,
   "id": "539c886b-26c6-441b-a809-b9fe8b8277ef",
   "metadata": {},
   "outputs": [
    {
     "data": {
      "text/html": [
       "<div>\n",
       "<style scoped>\n",
       "    .dataframe tbody tr th:only-of-type {\n",
       "        vertical-align: middle;\n",
       "    }\n",
       "\n",
       "    .dataframe tbody tr th {\n",
       "        vertical-align: top;\n",
       "    }\n",
       "\n",
       "    .dataframe thead th {\n",
       "        text-align: right;\n",
       "    }\n",
       "</style>\n",
       "<table border=\"1\" class=\"dataframe\">\n",
       "  <thead>\n",
       "    <tr style=\"text-align: right;\">\n",
       "      <th></th>\n",
       "      <th>price</th>\n",
       "      <th>lotsize</th>\n",
       "      <th>bedrooms</th>\n",
       "      <th>bathrms</th>\n",
       "      <th>stories</th>\n",
       "      <th>driveway</th>\n",
       "      <th>garagepl</th>\n",
       "    </tr>\n",
       "  </thead>\n",
       "  <tbody>\n",
       "    <tr>\n",
       "      <th>0</th>\n",
       "      <td>42000.0</td>\n",
       "      <td>5850</td>\n",
       "      <td>3</td>\n",
       "      <td>1</td>\n",
       "      <td>2</td>\n",
       "      <td>1</td>\n",
       "      <td>1</td>\n",
       "    </tr>\n",
       "    <tr>\n",
       "      <th>1</th>\n",
       "      <td>38500.0</td>\n",
       "      <td>4000</td>\n",
       "      <td>2</td>\n",
       "      <td>1</td>\n",
       "      <td>1</td>\n",
       "      <td>1</td>\n",
       "      <td>0</td>\n",
       "    </tr>\n",
       "    <tr>\n",
       "      <th>2</th>\n",
       "      <td>49500.0</td>\n",
       "      <td>3060</td>\n",
       "      <td>3</td>\n",
       "      <td>1</td>\n",
       "      <td>1</td>\n",
       "      <td>1</td>\n",
       "      <td>0</td>\n",
       "    </tr>\n",
       "    <tr>\n",
       "      <th>3</th>\n",
       "      <td>60500.0</td>\n",
       "      <td>6650</td>\n",
       "      <td>3</td>\n",
       "      <td>1</td>\n",
       "      <td>2</td>\n",
       "      <td>1</td>\n",
       "      <td>0</td>\n",
       "    </tr>\n",
       "    <tr>\n",
       "      <th>4</th>\n",
       "      <td>61000.0</td>\n",
       "      <td>6360</td>\n",
       "      <td>2</td>\n",
       "      <td>1</td>\n",
       "      <td>1</td>\n",
       "      <td>1</td>\n",
       "      <td>0</td>\n",
       "    </tr>\n",
       "    <tr>\n",
       "      <th>5</th>\n",
       "      <td>66000.0</td>\n",
       "      <td>4160</td>\n",
       "      <td>3</td>\n",
       "      <td>1</td>\n",
       "      <td>1</td>\n",
       "      <td>1</td>\n",
       "      <td>0</td>\n",
       "    </tr>\n",
       "    <tr>\n",
       "      <th>6</th>\n",
       "      <td>66000.0</td>\n",
       "      <td>3880</td>\n",
       "      <td>3</td>\n",
       "      <td>2</td>\n",
       "      <td>2</td>\n",
       "      <td>1</td>\n",
       "      <td>2</td>\n",
       "    </tr>\n",
       "    <tr>\n",
       "      <th>7</th>\n",
       "      <td>69000.0</td>\n",
       "      <td>4160</td>\n",
       "      <td>3</td>\n",
       "      <td>1</td>\n",
       "      <td>3</td>\n",
       "      <td>1</td>\n",
       "      <td>0</td>\n",
       "    </tr>\n",
       "    <tr>\n",
       "      <th>8</th>\n",
       "      <td>83800.0</td>\n",
       "      <td>4800</td>\n",
       "      <td>3</td>\n",
       "      <td>1</td>\n",
       "      <td>1</td>\n",
       "      <td>1</td>\n",
       "      <td>0</td>\n",
       "    </tr>\n",
       "    <tr>\n",
       "      <th>9</th>\n",
       "      <td>88500.0</td>\n",
       "      <td>5500</td>\n",
       "      <td>3</td>\n",
       "      <td>2</td>\n",
       "      <td>4</td>\n",
       "      <td>1</td>\n",
       "      <td>1</td>\n",
       "    </tr>\n",
       "    <tr>\n",
       "      <th>10</th>\n",
       "      <td>90000.0</td>\n",
       "      <td>7200</td>\n",
       "      <td>3</td>\n",
       "      <td>2</td>\n",
       "      <td>1</td>\n",
       "      <td>1</td>\n",
       "      <td>3</td>\n",
       "    </tr>\n",
       "    <tr>\n",
       "      <th>11</th>\n",
       "      <td>30500.0</td>\n",
       "      <td>3000</td>\n",
       "      <td>2</td>\n",
       "      <td>1</td>\n",
       "      <td>1</td>\n",
       "      <td>0</td>\n",
       "      <td>0</td>\n",
       "    </tr>\n",
       "    <tr>\n",
       "      <th>12</th>\n",
       "      <td>27000.0</td>\n",
       "      <td>1700</td>\n",
       "      <td>3</td>\n",
       "      <td>1</td>\n",
       "      <td>2</td>\n",
       "      <td>1</td>\n",
       "      <td>0</td>\n",
       "    </tr>\n",
       "    <tr>\n",
       "      <th>13</th>\n",
       "      <td>36000.0</td>\n",
       "      <td>2880</td>\n",
       "      <td>3</td>\n",
       "      <td>1</td>\n",
       "      <td>1</td>\n",
       "      <td>0</td>\n",
       "      <td>0</td>\n",
       "    </tr>\n",
       "    <tr>\n",
       "      <th>14</th>\n",
       "      <td>37000.0</td>\n",
       "      <td>3600</td>\n",
       "      <td>2</td>\n",
       "      <td>1</td>\n",
       "      <td>1</td>\n",
       "      <td>1</td>\n",
       "      <td>0</td>\n",
       "    </tr>\n",
       "    <tr>\n",
       "      <th>15</th>\n",
       "      <td>37900.0</td>\n",
       "      <td>3185</td>\n",
       "      <td>2</td>\n",
       "      <td>1</td>\n",
       "      <td>1</td>\n",
       "      <td>1</td>\n",
       "      <td>0</td>\n",
       "    </tr>\n",
       "    <tr>\n",
       "      <th>16</th>\n",
       "      <td>40500.0</td>\n",
       "      <td>3300</td>\n",
       "      <td>3</td>\n",
       "      <td>1</td>\n",
       "      <td>2</td>\n",
       "      <td>0</td>\n",
       "      <td>1</td>\n",
       "    </tr>\n",
       "    <tr>\n",
       "      <th>17</th>\n",
       "      <td>40750.0</td>\n",
       "      <td>5200</td>\n",
       "      <td>4</td>\n",
       "      <td>1</td>\n",
       "      <td>3</td>\n",
       "      <td>1</td>\n",
       "      <td>0</td>\n",
       "    </tr>\n",
       "    <tr>\n",
       "      <th>18</th>\n",
       "      <td>45000.0</td>\n",
       "      <td>3450</td>\n",
       "      <td>1</td>\n",
       "      <td>1</td>\n",
       "      <td>1</td>\n",
       "      <td>1</td>\n",
       "      <td>0</td>\n",
       "    </tr>\n",
       "    <tr>\n",
       "      <th>19</th>\n",
       "      <td>45000.0</td>\n",
       "      <td>3986</td>\n",
       "      <td>2</td>\n",
       "      <td>2</td>\n",
       "      <td>1</td>\n",
       "      <td>0</td>\n",
       "      <td>1</td>\n",
       "    </tr>\n",
       "    <tr>\n",
       "      <th>20</th>\n",
       "      <td>48500.0</td>\n",
       "      <td>4785</td>\n",
       "      <td>3</td>\n",
       "      <td>1</td>\n",
       "      <td>2</td>\n",
       "      <td>1</td>\n",
       "      <td>1</td>\n",
       "    </tr>\n",
       "    <tr>\n",
       "      <th>21</th>\n",
       "      <td>65900.0</td>\n",
       "      <td>4510</td>\n",
       "      <td>4</td>\n",
       "      <td>2</td>\n",
       "      <td>2</td>\n",
       "      <td>1</td>\n",
       "      <td>0</td>\n",
       "    </tr>\n",
       "    <tr>\n",
       "      <th>22</th>\n",
       "      <td>37900.0</td>\n",
       "      <td>4000</td>\n",
       "      <td>3</td>\n",
       "      <td>1</td>\n",
       "      <td>2</td>\n",
       "      <td>1</td>\n",
       "      <td>0</td>\n",
       "    </tr>\n",
       "    <tr>\n",
       "      <th>23</th>\n",
       "      <td>38000.0</td>\n",
       "      <td>3934</td>\n",
       "      <td>2</td>\n",
       "      <td>1</td>\n",
       "      <td>1</td>\n",
       "      <td>1</td>\n",
       "      <td>0</td>\n",
       "    </tr>\n",
       "    <tr>\n",
       "      <th>24</th>\n",
       "      <td>42000.0</td>\n",
       "      <td>4960</td>\n",
       "      <td>2</td>\n",
       "      <td>1</td>\n",
       "      <td>1</td>\n",
       "      <td>1</td>\n",
       "      <td>0</td>\n",
       "    </tr>\n",
       "    <tr>\n",
       "      <th>25</th>\n",
       "      <td>42300.0</td>\n",
       "      <td>3000</td>\n",
       "      <td>2</td>\n",
       "      <td>1</td>\n",
       "      <td>2</td>\n",
       "      <td>1</td>\n",
       "      <td>0</td>\n",
       "    </tr>\n",
       "    <tr>\n",
       "      <th>26</th>\n",
       "      <td>43500.0</td>\n",
       "      <td>3800</td>\n",
       "      <td>2</td>\n",
       "      <td>1</td>\n",
       "      <td>1</td>\n",
       "      <td>1</td>\n",
       "      <td>0</td>\n",
       "    </tr>\n",
       "    <tr>\n",
       "      <th>27</th>\n",
       "      <td>44000.0</td>\n",
       "      <td>4960</td>\n",
       "      <td>2</td>\n",
       "      <td>1</td>\n",
       "      <td>1</td>\n",
       "      <td>1</td>\n",
       "      <td>0</td>\n",
       "    </tr>\n",
       "    <tr>\n",
       "      <th>28</th>\n",
       "      <td>44500.0</td>\n",
       "      <td>3000</td>\n",
       "      <td>3</td>\n",
       "      <td>1</td>\n",
       "      <td>1</td>\n",
       "      <td>0</td>\n",
       "      <td>0</td>\n",
       "    </tr>\n",
       "    <tr>\n",
       "      <th>29</th>\n",
       "      <td>44900.0</td>\n",
       "      <td>4500</td>\n",
       "      <td>3</td>\n",
       "      <td>1</td>\n",
       "      <td>2</td>\n",
       "      <td>1</td>\n",
       "      <td>0</td>\n",
       "    </tr>\n",
       "  </tbody>\n",
       "</table>\n",
       "</div>"
      ],
      "text/plain": [
       "      price  lotsize  bedrooms  bathrms  stories  driveway  garagepl\n",
       "0   42000.0     5850         3        1        2         1         1\n",
       "1   38500.0     4000         2        1        1         1         0\n",
       "2   49500.0     3060         3        1        1         1         0\n",
       "3   60500.0     6650         3        1        2         1         0\n",
       "4   61000.0     6360         2        1        1         1         0\n",
       "5   66000.0     4160         3        1        1         1         0\n",
       "6   66000.0     3880         3        2        2         1         2\n",
       "7   69000.0     4160         3        1        3         1         0\n",
       "8   83800.0     4800         3        1        1         1         0\n",
       "9   88500.0     5500         3        2        4         1         1\n",
       "10  90000.0     7200         3        2        1         1         3\n",
       "11  30500.0     3000         2        1        1         0         0\n",
       "12  27000.0     1700         3        1        2         1         0\n",
       "13  36000.0     2880         3        1        1         0         0\n",
       "14  37000.0     3600         2        1        1         1         0\n",
       "15  37900.0     3185         2        1        1         1         0\n",
       "16  40500.0     3300         3        1        2         0         1\n",
       "17  40750.0     5200         4        1        3         1         0\n",
       "18  45000.0     3450         1        1        1         1         0\n",
       "19  45000.0     3986         2        2        1         0         1\n",
       "20  48500.0     4785         3        1        2         1         1\n",
       "21  65900.0     4510         4        2        2         1         0\n",
       "22  37900.0     4000         3        1        2         1         0\n",
       "23  38000.0     3934         2        1        1         1         0\n",
       "24  42000.0     4960         2        1        1         1         0\n",
       "25  42300.0     3000         2        1        2         1         0\n",
       "26  43500.0     3800         2        1        1         1         0\n",
       "27  44000.0     4960         2        1        1         1         0\n",
       "28  44500.0     3000         3        1        1         0         0\n",
       "29  44900.0     4500         3        1        2         1         0"
      ]
     },
     "execution_count": 68,
     "metadata": {},
     "output_type": "execute_result"
    }
   ],
   "source": [
    "df.head(30)"
   ]
  },
  {
   "cell_type": "code",
   "execution_count": 71,
   "id": "fa8998df-bcab-408b-bdd7-cd810c8f878c",
   "metadata": {},
   "outputs": [
    {
     "data": {
      "image/png": "[encoded data removed]",
      "text/plain": [
       "<Figure size 1200x800 with 2 Axes>"
      ]
     },
     "metadata": {},
     "output_type": "display_data"
    }
   ],
   "source": [
    "plt.figure(figsize=(12, 8))\n",
    "sns.heatmap(df.corr(numeric_only=True), annot=True, cmap='Greens')\n",
    "plt.title('Correlation Heatmap of Housing Data')\n",
    "plt.show()"
   ]
  },
  {
   "cell_type": "markdown",
   "id": "535ab914-b55b-4c8f-93ef-69dcec71a1ad",
   "metadata": {
    "jp-MarkdownHeadingCollapsed": true
   },
   "source": [
    "# Split data"
   ]
  },
  {
   "cell_type": "code",
   "execution_count": 72,
   "id": "af1b03ca-9491-4038-b285-9542c6770e42",
   "metadata": {},
   "outputs": [
    {
     "data": {
      "text/plain": [
       "Index(['price', 'lotsize', 'bedrooms', 'bathrms', 'stories', 'driveway',\n",
       "       'garagepl'],\n",
       "      dtype='object')"
      ]
     },
     "execution_count": 72,
     "metadata": {},
     "output_type": "execute_result"
    }
   ],
   "source": [
    "df.columns\n"
   ]
  },
  {
   "cell_type": "code",
   "execution_count": 80,
   "id": "42968da4-7bba-41dd-b942-6ecf7a1fbd5f",
   "metadata": {},
   "outputs": [
    {
     "name": "stdout",
     "output_type": "stream",
     "text": [
      "Training set size: 436 samples\n",
      "Test set size: 110 samples\n"
     ]
    }
   ],
   "source": [
    "# Define your features (independent variables) and target (dependent variable)\n",
    "features = ['lotsize', 'bedrooms', 'bathrms', 'stories', 'driveway','garagepl']\n",
    "target = [\"price\"]\n",
    "\n",
    "X = df[features]\n",
    "y = df[target]\n",
    "\n",
    "\n",
    "# Split the data into a training set and a testing set\n",
    "# test_size specifies the proportion of the data to be included in the test split\n",
    "# random_state ensures reproducibility of your split\n",
    "X_train, X_test, y_train, y_test = train_test_split(X, y, test_size=0.2, random_state=1111)\n",
    "\n",
    "# Check the size of the splits\n",
    "print(f'Training set size: {X_train.shape[0]} samples')\n",
    "print(f'Test set size: {X_test.shape[0]} samples')"
   ]
  },
  {
   "cell_type": "markdown",
   "id": "78fb73e9-1044-46c4-a80d-7ad4279519b6",
   "metadata": {},
   "source": [
    "# Training and Testing Linear regression using stats model api"
   ]
  },
  {
   "cell_type": "code",
   "execution_count": 81,
   "id": "9057b66a-fe04-40f3-9127-7b4bc50c4825",
   "metadata": {},
   "outputs": [
    {
     "data": {
      "text/html": [
       "<div>\n",
       "<style scoped>\n",
       "    .dataframe tbody tr th:only-of-type {\n",
       "        vertical-align: middle;\n",
       "    }\n",
       "\n",
       "    .dataframe tbody tr th {\n",
       "        vertical-align: top;\n",
       "    }\n",
       "\n",
       "    .dataframe thead th {\n",
       "        text-align: right;\n",
       "    }\n",
       "</style>\n",
       "<table border=\"1\" class=\"dataframe\">\n",
       "  <thead>\n",
       "    <tr style=\"text-align: right;\">\n",
       "      <th></th>\n",
       "      <th>const</th>\n",
       "      <th>lotsize</th>\n",
       "      <th>bedrooms</th>\n",
       "      <th>bathrms</th>\n",
       "      <th>stories</th>\n",
       "      <th>driveway</th>\n",
       "      <th>garagepl</th>\n",
       "    </tr>\n",
       "  </thead>\n",
       "  <tbody>\n",
       "    <tr>\n",
       "      <th>402</th>\n",
       "      <td>1.0</td>\n",
       "      <td>6825</td>\n",
       "      <td>3</td>\n",
       "      <td>1</td>\n",
       "      <td>1</td>\n",
       "      <td>1</td>\n",
       "      <td>0</td>\n",
       "    </tr>\n",
       "    <tr>\n",
       "      <th>249</th>\n",
       "      <td>1.0</td>\n",
       "      <td>3450</td>\n",
       "      <td>3</td>\n",
       "      <td>1</td>\n",
       "      <td>2</td>\n",
       "      <td>1</td>\n",
       "      <td>0</td>\n",
       "    </tr>\n",
       "    <tr>\n",
       "      <th>542</th>\n",
       "      <td>1.0</td>\n",
       "      <td>6000</td>\n",
       "      <td>3</td>\n",
       "      <td>2</td>\n",
       "      <td>4</td>\n",
       "      <td>1</td>\n",
       "      <td>0</td>\n",
       "    </tr>\n",
       "    <tr>\n",
       "      <th>106</th>\n",
       "      <td>1.0</td>\n",
       "      <td>3720</td>\n",
       "      <td>2</td>\n",
       "      <td>1</td>\n",
       "      <td>1</td>\n",
       "      <td>0</td>\n",
       "      <td>0</td>\n",
       "    </tr>\n",
       "    <tr>\n",
       "      <th>398</th>\n",
       "      <td>1.0</td>\n",
       "      <td>7000</td>\n",
       "      <td>3</td>\n",
       "      <td>1</td>\n",
       "      <td>1</td>\n",
       "      <td>1</td>\n",
       "      <td>2</td>\n",
       "    </tr>\n",
       "    <tr>\n",
       "      <th>...</th>\n",
       "      <td>...</td>\n",
       "      <td>...</td>\n",
       "      <td>...</td>\n",
       "      <td>...</td>\n",
       "      <td>...</td>\n",
       "      <td>...</td>\n",
       "      <td>...</td>\n",
       "    </tr>\n",
       "    <tr>\n",
       "      <th>152</th>\n",
       "      <td>1.0</td>\n",
       "      <td>3600</td>\n",
       "      <td>2</td>\n",
       "      <td>2</td>\n",
       "      <td>2</td>\n",
       "      <td>1</td>\n",
       "      <td>1</td>\n",
       "    </tr>\n",
       "    <tr>\n",
       "      <th>396</th>\n",
       "      <td>1.0</td>\n",
       "      <td>6710</td>\n",
       "      <td>3</td>\n",
       "      <td>2</td>\n",
       "      <td>2</td>\n",
       "      <td>1</td>\n",
       "      <td>1</td>\n",
       "    </tr>\n",
       "    <tr>\n",
       "      <th>337</th>\n",
       "      <td>1.0</td>\n",
       "      <td>7500</td>\n",
       "      <td>3</td>\n",
       "      <td>3</td>\n",
       "      <td>1</td>\n",
       "      <td>1</td>\n",
       "      <td>2</td>\n",
       "    </tr>\n",
       "    <tr>\n",
       "      <th>311</th>\n",
       "      <td>1.0</td>\n",
       "      <td>4995</td>\n",
       "      <td>4</td>\n",
       "      <td>2</td>\n",
       "      <td>1</td>\n",
       "      <td>1</td>\n",
       "      <td>0</td>\n",
       "    </tr>\n",
       "    <tr>\n",
       "      <th>412</th>\n",
       "      <td>1.0</td>\n",
       "      <td>6360</td>\n",
       "      <td>3</td>\n",
       "      <td>2</td>\n",
       "      <td>4</td>\n",
       "      <td>1</td>\n",
       "      <td>0</td>\n",
       "    </tr>\n",
       "  </tbody>\n",
       "</table>\n",
       "<p>436 rows × 7 columns</p>\n",
       "</div>"
      ],
      "text/plain": [
       "     const  lotsize  bedrooms  bathrms  stories  driveway  garagepl\n",
       "402    1.0     6825         3        1        1         1         0\n",
       "249    1.0     3450         3        1        2         1         0\n",
       "542    1.0     6000         3        2        4         1         0\n",
       "106    1.0     3720         2        1        1         0         0\n",
       "398    1.0     7000         3        1        1         1         2\n",
       "..     ...      ...       ...      ...      ...       ...       ...\n",
       "152    1.0     3600         2        2        2         1         1\n",
       "396    1.0     6710         3        2        2         1         1\n",
       "337    1.0     7500         3        3        1         1         2\n",
       "311    1.0     4995         4        2        1         1         0\n",
       "412    1.0     6360         3        2        4         1         0\n",
       "\n",
       "[436 rows x 7 columns]"
      ]
     },
     "execution_count": 81,
     "metadata": {},
     "output_type": "execute_result"
    }
   ],
   "source": [
    "# Adding a constant to the predictors because statsmodels' OLS doesn't include it by default\n",
    "X_train_const = sm.add_constant(X_train)\n",
    "X_train_const\n"
   ]
  },
  {
   "cell_type": "code",
   "execution_count": 82,
   "id": "0f88e002-63ee-4673-b7b5-c2f81744943c",
   "metadata": {},
   "outputs": [
    {
     "name": "stdout",
     "output_type": "stream",
     "text": [
      "                            OLS Regression Results                            \n",
      "==============================================================================\n",
      "Dep. Variable:                  price   R-squared:                       0.577\n",
      "Model:                            OLS   Adj. R-squared:                  0.571\n",
      "Method:                 Least Squares   F-statistic:                     97.42\n",
      "Date:                Mon, 08 Apr 2024   Prob (F-statistic):           6.38e-77\n",
      "Time:                        14:54:16   Log-Likelihood:                -4880.9\n",
      "No. Observations:                 436   AIC:                             9776.\n",
      "Df Residuals:                     429   BIC:                             9804.\n",
      "Df Model:                           6                                         \n",
      "Covariance Type:            nonrobust                                         \n",
      "==============================================================================\n",
      "                 coef    std err          t      P>|t|      [0.025      0.975]\n",
      "------------------------------------------------------------------------------\n",
      "const      -6953.1636   4255.781     -1.634      0.103   -1.53e+04    1411.612\n",
      "lotsize        4.0806      0.444      9.185      0.000       3.207       4.954\n",
      "bedrooms    2426.2322   1322.474      1.835      0.067    -173.102    5025.566\n",
      "bathrms     1.605e+04   1855.014      8.653      0.000    1.24e+04    1.97e+04\n",
      "stories     7840.0504   1098.222      7.139      0.000    5681.486    9998.615\n",
      "driveway    9286.4087   2574.124      3.608      0.000    4226.944    1.43e+04\n",
      "garagepl    5920.6045   1092.276      5.420      0.000    3773.726    8067.483\n",
      "==============================================================================\n",
      "Omnibus:                       65.241   Durbin-Watson:                   2.140\n",
      "Prob(Omnibus):                  0.000   Jarque-Bera (JB):              154.681\n",
      "Skew:                           0.767   Prob(JB):                     2.58e-34\n",
      "Kurtosis:                       5.482   Cond. No.                     2.96e+04\n",
      "==============================================================================\n",
      "\n",
      "Notes:\n",
      "[1] Standard Errors assume that the covariance matrix of the errors is correctly specified.\n",
      "[2] The condition number is large, 2.96e+04. This might indicate that there are\n",
      "strong multicollinearity or other numerical problems.\n"
     ]
    }
   ],
   "source": [
    "# ols = ordinary least squares\n",
    "\n",
    "\n",
    "# Fit the OLS model\n",
    "model_fitted = sm.OLS(y_train, X_train_const).fit()\n",
    "\n",
    "# Printing Summary\n",
    "print(model_fitted.summary())\n",
    "\n",
    "\n",
    "# R-squared: == goodness of the fit i.e is the total % of data that the independent variable canexplain out of the different variations\n",
    "# if Adj. R-squared is the same you are good\n",
    "# if F-statistic is large or Prob (F-statistic) is 0 then it means thAT All yur variables jointly are statistically significant"
   ]
  },
  {
   "cell_type": "markdown",
   "id": "4d885e22-e3b3-4ec1-bb06-3b00271664fd",
   "metadata": {
    "jp-MarkdownHeadingCollapsed": true
   },
   "source": [
    "## checking OLS assumptions"
   ]
  },
  {
   "cell_type": "code",
   "execution_count": 84,
   "id": "2560db53-2c14-452b-8797-c486a7ecfb46",
   "metadata": {},
   "outputs": [
    {
     "data": {
      "text/plain": [
       "231    92735.397707\n",
       "291    63586.732624\n",
       "348    65828.547160\n",
       "341    53585.512415\n",
       "215    45890.017758\n",
       "           ...     \n",
       "289    44396.512403\n",
       "445    96372.745779\n",
       "370    71297.539834\n",
       "480    76093.642145\n",
       "24     51317.236668\n",
       "Length: 110, dtype: float64"
      ]
     },
     "execution_count": 84,
     "metadata": {},
     "output_type": "execute_result"
    }
   ],
   "source": [
    "# Adding a constant to the test predictors\n",
    "X_test_const = sm.add_constant(X_test)\n",
    "\n",
    "# Making predictions on the test set\n",
    "test_predictions = model_fitted.predict(X_test_const)\n",
    "test_predictions"
   ]
  },
  {
   "cell_type": "markdown",
   "id": "c662710f-13ca-4e88-8088-571417961aa8",
   "metadata": {
    "jp-MarkdownHeadingCollapsed": true
   },
   "source": [
    "### linearity"
   ]
  },
  {
   "cell_type": "code",
   "execution_count": 85,
   "id": "8366c5d8-52b5-44a5-adb9-5cade235de69",
   "metadata": {},
   "outputs": [
    {
     "data": {
      "image/png": "[encoded data removed]",
      "text/plain": [
       "<Figure size 640x480 with 1 Axes>"
      ]
     },
     "metadata": {},
     "output_type": "display_data"
    }
   ],
   "source": [
    "# Scatter plot for observed vs predicted values on test data\n",
    "plt.scatter(y_test, test_predictions, color = \"forestgreen\")\n",
    "plt.xlabel('Observed Values')\n",
    "plt.ylabel('Predicted Values')\n",
    "plt.title('Observed vs Predicted Values on Test Data')\n",
    "plt.plot(y_test, y_test, color='darkred')  # line for perfect prediction (true values)\n",
    "plt.show()\n"
   ]
  },
  {
   "cell_type": "markdown",
   "id": "96d85d39-343f-4a5a-a0bf-8e825791ff45",
   "metadata": {
    "jp-MarkdownHeadingCollapsed": true
   },
   "source": [
    "### Random Sample"
   ]
  },
  {
   "cell_type": "code",
   "execution_count": 89,
   "id": "a17343c3-f361-4d5a-b1de-2175178acc24",
   "metadata": {},
   "outputs": [
    {
     "data": {
      "text/plain": [
       "0.0"
      ]
     },
     "execution_count": 89,
     "metadata": {},
     "output_type": "execute_result"
    }
   ],
   "source": [
    "# Calculate the mean of the residuals\n",
    "## Residuals are the differences between the observed values and the values predicted by the regression model.\n",
    "mean_residuals = np.mean(model_fitted.resid)\n",
    "\n",
    "np.round(mean_residuals,2)\n"
   ]
  },
  {
   "cell_type": "code",
   "execution_count": 88,
   "id": "c8ced0e5-7bba-4c1d-9732-566aed5e4a75",
   "metadata": {},
   "outputs": [
    {
     "data": {
      "image/png": "[encoded data removed]",
      "text/plain": [
       "<Figure size 640x480 with 1 Axes>"
      ]
     },
     "metadata": {},
     "output_type": "display_data"
    }
   ],
   "source": [
    "# Plotting the residuals\n",
    "plt.scatter(model_fitted.fittedvalues, model_fitted.resid, color = \"forestgreen\")\n",
    "plt.axhline(y=0, color='red', linestyle='--')\n",
    "plt.xlabel('Fitted Values')\n",
    "plt.ylabel('Residuals')\n",
    "plt.title('Residuals vs Fitted Values')\n",
    "plt.show()\n",
    "\n",
    "\n",
    "#we need to ensure we dont find a pattern\n"
   ]
  },
  {
   "cell_type": "markdown",
   "id": "e939aec8-20b3-4721-b05b-c9b659e72484",
   "metadata": {},
   "source": [
    "### Exogeneity"
   ]
  },
  {
   "cell_type": "code",
   "execution_count": 90,
   "id": "8c9df0b2-eac7-4d7b-8cc7-bb7c0708c09e",
   "metadata": {},
   "outputs": [],
   "source": [
    "# Exogeneity refers to the assumption that the predictor variables in a regression model are not correlated with the error term (residuals) of the model.\n",
    "# Violations of the exogeneity assumption can lead to biased parameter estimates and incorrect inferences."
   ]
  },
  {
   "cell_type": "code",
   "execution_count": 91,
   "id": "f8e65480-a354-4967-9292-f4ce6338f51b",
   "metadata": {},
   "outputs": [
    {
     "name": "stdout",
     "output_type": "stream",
     "text": [
      "Correlation between residuals and lotsize: 0.0\n",
      "Correlation between residuals and bedrooms: -0.0\n",
      "Correlation between residuals and bathrms: 0.0\n",
      "Correlation between residuals and stories: 0.0\n",
      "Correlation between residuals and driveway: 0.0\n",
      "Correlation between residuals and garagepl: 0.0\n"
     ]
    }
   ],
   "source": [
    "# Calculate the residuals\n",
    "residuals = model_fitted.resid\n",
    "\n",
    "# Check for correlation between residuals and each predictor\n",
    "for column in X_train.columns:\n",
    "    corr_coefficient = np.corrcoef(X_train[column], residuals)[0, 1]\n",
    "    print(f'Correlation between residuals and {column}: {np.round(corr_coefficient,2)}')\n"
   ]
  },
  {
   "cell_type": "markdown",
   "id": "df2a7286-ef43-4c8b-8479-aaa547223735",
   "metadata": {},
   "source": [
    "### Homoskedasticty"
   ]
  },
  {
   "cell_type": "code",
   "execution_count": 92,
   "id": "1bc0cd10-bb08-434e-a08f-f3b3699f8910",
   "metadata": {},
   "outputs": [
    {
     "data": {
      "image/png": "[encoded data removed]",
      "text/plain": [
       "<Figure size 640x480 with 1 Axes>"
      ]
     },
     "metadata": {},
     "output_type": "display_data"
    }
   ],
   "source": [
    "# Plotting the residuals\n",
    "plt.scatter(model_fitted.fittedvalues, model_fitted.resid, color = \"forestgreen\")\n",
    "plt.axhline(y=0, color='red', linestyle='--')\n",
    "plt.xlabel('Fitted Values')\n",
    "plt.ylabel('Residuals')\n",
    "plt.title('Residuals vs Fitted Values')\n",
    "plt.show()"
   ]
  },
  {
   "cell_type": "code",
   "execution_count": null,
   "id": "7870e3fe-6b0d-416e-852f-1137b90e4d26",
   "metadata": {},
   "outputs": [],
   "source": [
    "# Random Scatter:\n",
    "#If the residuals are randomly scattered around the horizontal line at zero, it suggests that the assumptions of homoscedasticity and linearity are met.\n",
    "\n",
    "#Homoscedasticity means that the variance of the residuals is constant across all levels of the independent variables.\n",
    "\n",
    "#Patterns or Shapes:\n",
    "#If the residuals display a pattern (e.g., a curve) or form a funnel shape where the spread increases or decreases systematically with fitted values, it suggests the presence of heteroscedasticity.\n",
    "#Heteroscedasticity occurs when the variance of the residuals changes systematically with the level of the independent variables, violating the assumption of homoscedasticity."
   ]
  },
  {
   "cell_type": "markdown",
   "id": "dbba15c3-1c45-4fe6-a5ed-ffeb0f738d73",
   "metadata": {},
   "source": [
    "# using sci kit learn\n"
   ]
  },
  {
   "cell_type": "code",
   "execution_count": null,
   "id": "db6e33e2-3ea8-4a6f-8e5f-53bfd8735119",
   "metadata": {},
   "outputs": [],
   "source": []
  }
 ],
 "metadata": {
  "kernelspec": {
   "display_name": "Python 3 (ipykernel)",
   "language": "python",
   "name": "python3"
  },
  "language_info": {
   "codemirror_mode": {
    "name": "ipython",
    "version": 3
   },
   "file_extension": ".py",
   "mimetype": "text/x-python",
   "name": "python",
   "nbconvert_exporter": "python",
   "pygments_lexer": "ipython3",
   "version": "3.11.7"
  }
 },
 "nbformat": 4,
 "nbformat_minor": 5
}
