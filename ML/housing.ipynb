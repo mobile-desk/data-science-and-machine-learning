{
 "cells": [
  {
   "cell_type": "markdown",
   "id": "ce94ac90-c2f0-4fc2-aba9-48efb6abe925",
   "metadata": {},
   "source": [
    "# Importing Libraries"
   ]
  },
  {
   "cell_type": "code",
   "execution_count": 59,
   "id": "6393aeb2-d8ac-49f4-903b-43120058f8e5",
   "metadata": {},
   "outputs": [],
   "source": [
    "import numpy as np\n",
    "import pandas as pd\n",
    "import seaborn as sns\n",
    "\n",
    "from sklearn.impute import SimpleImputer\n",
    "from sklearn.compose import ColumnTransformer\n",
    "from sklearn.preprocessing import LabelEncoder, OneHotEncoder, StandardScaler\n",
    "from sklearn.model_selection import train_test_split\n",
    "from sklearn import linear_model #build linear regressioon model\n",
    "from sklearn.metrics import mean_squared_error, r2_score #compute performance"
   ]
  },
  {
   "cell_type": "markdown",
   "id": "5a2c784b-7220-4dc0-92a9-1c25379f2f73",
   "metadata": {
    "jp-MarkdownHeadingCollapsed": true
   },
   "source": [
    "# Load Dataset"
   ]
  },
  {
   "cell_type": "code",
   "execution_count": 3,
   "id": "9614f15d-2ebb-49ca-8186-8e41ae7ddd3f",
   "metadata": {},
   "outputs": [],
   "source": [
    "df = pd.read_csv('housing.csv')"
   ]
  },
  {
   "cell_type": "code",
   "execution_count": 4,
   "id": "c257813e-431d-4ebe-b308-debe8c5b62f5",
   "metadata": {},
   "outputs": [
    {
     "data": {
      "text/html": [
       "<div>\n",
       "<style scoped>\n",
       "    .dataframe tbody tr th:only-of-type {\n",
       "        vertical-align: middle;\n",
       "    }\n",
       "\n",
       "    .dataframe tbody tr th {\n",
       "        vertical-align: top;\n",
       "    }\n",
       "\n",
       "    .dataframe thead th {\n",
       "        text-align: right;\n",
       "    }\n",
       "</style>\n",
       "<table border=\"1\" class=\"dataframe\">\n",
       "  <thead>\n",
       "    <tr style=\"text-align: right;\">\n",
       "      <th></th>\n",
       "      <th>price</th>\n",
       "      <th>lotsize</th>\n",
       "      <th>bedrooms</th>\n",
       "      <th>bathrms</th>\n",
       "      <th>stories</th>\n",
       "      <th>driveway</th>\n",
       "      <th>garagepl</th>\n",
       "    </tr>\n",
       "  </thead>\n",
       "  <tbody>\n",
       "    <tr>\n",
       "      <th>0</th>\n",
       "      <td>42000.0</td>\n",
       "      <td>5850</td>\n",
       "      <td>3</td>\n",
       "      <td>1</td>\n",
       "      <td>2</td>\n",
       "      <td>yes</td>\n",
       "      <td>1</td>\n",
       "    </tr>\n",
       "    <tr>\n",
       "      <th>1</th>\n",
       "      <td>38500.0</td>\n",
       "      <td>4000</td>\n",
       "      <td>2</td>\n",
       "      <td>1</td>\n",
       "      <td>1</td>\n",
       "      <td>yes</td>\n",
       "      <td>0</td>\n",
       "    </tr>\n",
       "    <tr>\n",
       "      <th>2</th>\n",
       "      <td>49500.0</td>\n",
       "      <td>3060</td>\n",
       "      <td>3</td>\n",
       "      <td>1</td>\n",
       "      <td>1</td>\n",
       "      <td>yes</td>\n",
       "      <td>0</td>\n",
       "    </tr>\n",
       "    <tr>\n",
       "      <th>3</th>\n",
       "      <td>60500.0</td>\n",
       "      <td>6650</td>\n",
       "      <td>3</td>\n",
       "      <td>1</td>\n",
       "      <td>2</td>\n",
       "      <td>yes</td>\n",
       "      <td>0</td>\n",
       "    </tr>\n",
       "    <tr>\n",
       "      <th>4</th>\n",
       "      <td>61000.0</td>\n",
       "      <td>6360</td>\n",
       "      <td>2</td>\n",
       "      <td>1</td>\n",
       "      <td>1</td>\n",
       "      <td>yes</td>\n",
       "      <td>0</td>\n",
       "    </tr>\n",
       "    <tr>\n",
       "      <th>...</th>\n",
       "      <td>...</td>\n",
       "      <td>...</td>\n",
       "      <td>...</td>\n",
       "      <td>...</td>\n",
       "      <td>...</td>\n",
       "      <td>...</td>\n",
       "      <td>...</td>\n",
       "    </tr>\n",
       "    <tr>\n",
       "      <th>541</th>\n",
       "      <td>91500.0</td>\n",
       "      <td>4800</td>\n",
       "      <td>3</td>\n",
       "      <td>2</td>\n",
       "      <td>4</td>\n",
       "      <td>yes</td>\n",
       "      <td>0</td>\n",
       "    </tr>\n",
       "    <tr>\n",
       "      <th>542</th>\n",
       "      <td>94000.0</td>\n",
       "      <td>6000</td>\n",
       "      <td>3</td>\n",
       "      <td>2</td>\n",
       "      <td>4</td>\n",
       "      <td>yes</td>\n",
       "      <td>0</td>\n",
       "    </tr>\n",
       "    <tr>\n",
       "      <th>543</th>\n",
       "      <td>103000.0</td>\n",
       "      <td>6000</td>\n",
       "      <td>3</td>\n",
       "      <td>2</td>\n",
       "      <td>4</td>\n",
       "      <td>yes</td>\n",
       "      <td>1</td>\n",
       "    </tr>\n",
       "    <tr>\n",
       "      <th>544</th>\n",
       "      <td>105000.0</td>\n",
       "      <td>6000</td>\n",
       "      <td>3</td>\n",
       "      <td>2</td>\n",
       "      <td>2</td>\n",
       "      <td>yes</td>\n",
       "      <td>1</td>\n",
       "    </tr>\n",
       "    <tr>\n",
       "      <th>545</th>\n",
       "      <td>105000.0</td>\n",
       "      <td>6000</td>\n",
       "      <td>3</td>\n",
       "      <td>1</td>\n",
       "      <td>2</td>\n",
       "      <td>yes</td>\n",
       "      <td>1</td>\n",
       "    </tr>\n",
       "  </tbody>\n",
       "</table>\n",
       "<p>546 rows × 7 columns</p>\n",
       "</div>"
      ],
      "text/plain": [
       "        price  lotsize  bedrooms  bathrms  stories driveway  garagepl\n",
       "0     42000.0     5850         3        1        2      yes         1\n",
       "1     38500.0     4000         2        1        1      yes         0\n",
       "2     49500.0     3060         3        1        1      yes         0\n",
       "3     60500.0     6650         3        1        2      yes         0\n",
       "4     61000.0     6360         2        1        1      yes         0\n",
       "..        ...      ...       ...      ...      ...      ...       ...\n",
       "541   91500.0     4800         3        2        4      yes         0\n",
       "542   94000.0     6000         3        2        4      yes         0\n",
       "543  103000.0     6000         3        2        4      yes         1\n",
       "544  105000.0     6000         3        2        2      yes         1\n",
       "545  105000.0     6000         3        1        2      yes         1\n",
       "\n",
       "[546 rows x 7 columns]"
      ]
     },
     "execution_count": 4,
     "metadata": {},
     "output_type": "execute_result"
    }
   ],
   "source": [
    "df"
   ]
  },
  {
   "cell_type": "markdown",
   "id": "d2d45b5a-1be9-4c77-8e5e-2bf86b05b555",
   "metadata": {},
   "source": [
    "# PreProcessing"
   ]
  },
  {
   "cell_type": "markdown",
   "id": "d7783e5c-519a-46e0-b944-858bb1a79568",
   "metadata": {
    "jp-MarkdownHeadingCollapsed": true
   },
   "source": [
    "## Handling missing data"
   ]
  },
  {
   "cell_type": "code",
   "execution_count": 6,
   "id": "ea26c412-ffd5-409d-87f3-d7037973c320",
   "metadata": {},
   "outputs": [
    {
     "data": {
      "text/plain": [
       "array([[4.20e+04, 5.85e+03, 3.00e+00, 1.00e+00, 2.00e+00, 1.00e+00],\n",
       "       [3.85e+04, 4.00e+03, 2.00e+00, 1.00e+00, 1.00e+00, 0.00e+00],\n",
       "       [4.95e+04, 3.06e+03, 3.00e+00, 1.00e+00, 1.00e+00, 0.00e+00],\n",
       "       ...,\n",
       "       [1.03e+05, 6.00e+03, 3.00e+00, 2.00e+00, 4.00e+00, 1.00e+00],\n",
       "       [1.05e+05, 6.00e+03, 3.00e+00, 2.00e+00, 2.00e+00, 1.00e+00],\n",
       "       [1.05e+05, 6.00e+03, 3.00e+00, 1.00e+00, 2.00e+00, 1.00e+00]])"
      ]
     },
     "execution_count": 6,
     "metadata": {},
     "output_type": "execute_result"
    }
   ],
   "source": [
    "num_cols = ['price', 'lotsize', 'bedrooms', 'bathrms', 'stories', 'garagepl']\n",
    "imp_mean = SimpleImputer(strategy='median') #you can use median, mean, constant i.e [strategy='constant', fill_value = 2]\n",
    "# if you want to add an indicator to know where the change was made add [add_indicator=True] as an argument\n",
    "\n",
    "# Create ColumnTransformer to apply imputation only for numerical columns\n",
    "preprocessor = ColumnTransformer(\n",
    "    transformers=[\n",
    "        ('num', imp_mean, num_cols)\n",
    "    ])\n",
    "\n",
    "# Fit and transform the data\n",
    "transformed_data = preprocessor.fit_transform(df)\n",
    "\n",
    "transformed_data"
   ]
  },
  {
   "cell_type": "code",
   "execution_count": 7,
   "id": "fef2467c-413f-435d-b8b6-155fea3f045d",
   "metadata": {},
   "outputs": [
    {
     "data": {
      "text/html": [
       "<div>\n",
       "<style scoped>\n",
       "    .dataframe tbody tr th:only-of-type {\n",
       "        vertical-align: middle;\n",
       "    }\n",
       "\n",
       "    .dataframe tbody tr th {\n",
       "        vertical-align: top;\n",
       "    }\n",
       "\n",
       "    .dataframe thead th {\n",
       "        text-align: right;\n",
       "    }\n",
       "</style>\n",
       "<table border=\"1\" class=\"dataframe\">\n",
       "  <thead>\n",
       "    <tr style=\"text-align: right;\">\n",
       "      <th></th>\n",
       "      <th>price</th>\n",
       "      <th>lotsize</th>\n",
       "      <th>bedrooms</th>\n",
       "      <th>bathrms</th>\n",
       "      <th>stories</th>\n",
       "      <th>driveway</th>\n",
       "      <th>garagepl</th>\n",
       "    </tr>\n",
       "  </thead>\n",
       "  <tbody>\n",
       "    <tr>\n",
       "      <th>0</th>\n",
       "      <td>42000.0</td>\n",
       "      <td>5850.0</td>\n",
       "      <td>3.0</td>\n",
       "      <td>1.0</td>\n",
       "      <td>2.0</td>\n",
       "      <td>yes</td>\n",
       "      <td>1.0</td>\n",
       "    </tr>\n",
       "    <tr>\n",
       "      <th>1</th>\n",
       "      <td>38500.0</td>\n",
       "      <td>4000.0</td>\n",
       "      <td>2.0</td>\n",
       "      <td>1.0</td>\n",
       "      <td>1.0</td>\n",
       "      <td>yes</td>\n",
       "      <td>0.0</td>\n",
       "    </tr>\n",
       "    <tr>\n",
       "      <th>2</th>\n",
       "      <td>49500.0</td>\n",
       "      <td>3060.0</td>\n",
       "      <td>3.0</td>\n",
       "      <td>1.0</td>\n",
       "      <td>1.0</td>\n",
       "      <td>yes</td>\n",
       "      <td>0.0</td>\n",
       "    </tr>\n",
       "    <tr>\n",
       "      <th>3</th>\n",
       "      <td>60500.0</td>\n",
       "      <td>6650.0</td>\n",
       "      <td>3.0</td>\n",
       "      <td>1.0</td>\n",
       "      <td>2.0</td>\n",
       "      <td>yes</td>\n",
       "      <td>0.0</td>\n",
       "    </tr>\n",
       "    <tr>\n",
       "      <th>4</th>\n",
       "      <td>61000.0</td>\n",
       "      <td>6360.0</td>\n",
       "      <td>2.0</td>\n",
       "      <td>1.0</td>\n",
       "      <td>1.0</td>\n",
       "      <td>yes</td>\n",
       "      <td>0.0</td>\n",
       "    </tr>\n",
       "    <tr>\n",
       "      <th>...</th>\n",
       "      <td>...</td>\n",
       "      <td>...</td>\n",
       "      <td>...</td>\n",
       "      <td>...</td>\n",
       "      <td>...</td>\n",
       "      <td>...</td>\n",
       "      <td>...</td>\n",
       "    </tr>\n",
       "    <tr>\n",
       "      <th>541</th>\n",
       "      <td>91500.0</td>\n",
       "      <td>4800.0</td>\n",
       "      <td>3.0</td>\n",
       "      <td>2.0</td>\n",
       "      <td>4.0</td>\n",
       "      <td>yes</td>\n",
       "      <td>0.0</td>\n",
       "    </tr>\n",
       "    <tr>\n",
       "      <th>542</th>\n",
       "      <td>94000.0</td>\n",
       "      <td>6000.0</td>\n",
       "      <td>3.0</td>\n",
       "      <td>2.0</td>\n",
       "      <td>4.0</td>\n",
       "      <td>yes</td>\n",
       "      <td>0.0</td>\n",
       "    </tr>\n",
       "    <tr>\n",
       "      <th>543</th>\n",
       "      <td>103000.0</td>\n",
       "      <td>6000.0</td>\n",
       "      <td>3.0</td>\n",
       "      <td>2.0</td>\n",
       "      <td>4.0</td>\n",
       "      <td>yes</td>\n",
       "      <td>1.0</td>\n",
       "    </tr>\n",
       "    <tr>\n",
       "      <th>544</th>\n",
       "      <td>105000.0</td>\n",
       "      <td>6000.0</td>\n",
       "      <td>3.0</td>\n",
       "      <td>2.0</td>\n",
       "      <td>2.0</td>\n",
       "      <td>yes</td>\n",
       "      <td>1.0</td>\n",
       "    </tr>\n",
       "    <tr>\n",
       "      <th>545</th>\n",
       "      <td>105000.0</td>\n",
       "      <td>6000.0</td>\n",
       "      <td>3.0</td>\n",
       "      <td>1.0</td>\n",
       "      <td>2.0</td>\n",
       "      <td>yes</td>\n",
       "      <td>1.0</td>\n",
       "    </tr>\n",
       "  </tbody>\n",
       "</table>\n",
       "<p>546 rows × 7 columns</p>\n",
       "</div>"
      ],
      "text/plain": [
       "        price  lotsize  bedrooms  bathrms  stories driveway  garagepl\n",
       "0     42000.0   5850.0       3.0      1.0      2.0      yes       1.0\n",
       "1     38500.0   4000.0       2.0      1.0      1.0      yes       0.0\n",
       "2     49500.0   3060.0       3.0      1.0      1.0      yes       0.0\n",
       "3     60500.0   6650.0       3.0      1.0      2.0      yes       0.0\n",
       "4     61000.0   6360.0       2.0      1.0      1.0      yes       0.0\n",
       "..        ...      ...       ...      ...      ...      ...       ...\n",
       "541   91500.0   4800.0       3.0      2.0      4.0      yes       0.0\n",
       "542   94000.0   6000.0       3.0      2.0      4.0      yes       0.0\n",
       "543  103000.0   6000.0       3.0      2.0      4.0      yes       1.0\n",
       "544  105000.0   6000.0       3.0      2.0      2.0      yes       1.0\n",
       "545  105000.0   6000.0       3.0      1.0      2.0      yes       1.0\n",
       "\n",
       "[546 rows x 7 columns]"
      ]
     },
     "execution_count": 7,
     "metadata": {},
     "output_type": "execute_result"
    }
   ],
   "source": [
    "# Reassemble transformed_data into a DataFrame\n",
    "transformed_df = pd.DataFrame(transformed_data, columns=num_cols)\n",
    "\n",
    "# Update the original DataFrame with transformed values\n",
    "df[num_cols] = transformed_df\n",
    "\n",
    "df"
   ]
  },
  {
   "cell_type": "markdown",
   "id": "6c2a022d-a494-480f-80ac-3fb06e5a5821",
   "metadata": {
    "jp-MarkdownHeadingCollapsed": true
   },
   "source": [
    "## creating unique nummerical data for labels"
   ]
  },
  {
   "cell_type": "code",
   "execution_count": 8,
   "id": "28fdcbed-84bc-440f-98ea-181aba5d8002",
   "metadata": {},
   "outputs": [
    {
     "data": {
      "text/plain": [
       "array(['yes', 'no'], dtype=object)"
      ]
     },
     "execution_count": 8,
     "metadata": {},
     "output_type": "execute_result"
    }
   ],
   "source": [
    "df['driveway'].unique()"
   ]
  },
  {
   "cell_type": "code",
   "execution_count": 9,
   "id": "1263c4f8-30ed-4360-b602-4c5f7aeb996e",
   "metadata": {},
   "outputs": [
    {
     "data": {
      "text/plain": [
       "driveway\n",
       "yes    469\n",
       "no      77\n",
       "Name: count, dtype: int64"
      ]
     },
     "execution_count": 9,
     "metadata": {},
     "output_type": "execute_result"
    }
   ],
   "source": [
    "df['driveway'].value_counts()"
   ]
  },
  {
   "cell_type": "code",
   "execution_count": 10,
   "id": "98cdfd2f-2d67-4d8b-b4c6-bd8842483676",
   "metadata": {},
   "outputs": [
    {
     "data": {
      "text/html": [
       "<style>#sk-container-id-1 {color: black;background-color: white;}#sk-container-id-1 pre{padding: 0;}#sk-container-id-1 div.sk-toggleable {background-color: white;}#sk-container-id-1 label.sk-toggleable__label {cursor: pointer;display: block;width: 100%;margin-bottom: 0;padding: 0.3em;box-sizing: border-box;text-align: center;}#sk-container-id-1 label.sk-toggleable__label-arrow:before {content: \"▸\";float: left;margin-right: 0.25em;color: #696969;}#sk-container-id-1 label.sk-toggleable__label-arrow:hover:before {color: black;}#sk-container-id-1 div.sk-estimator:hover label.sk-toggleable__label-arrow:before {color: black;}#sk-container-id-1 div.sk-toggleable__content {max-height: 0;max-width: 0;overflow: hidden;text-align: left;background-color: #f0f8ff;}#sk-container-id-1 div.sk-toggleable__content pre {margin: 0.2em;color: black;border-radius: 0.25em;background-color: #f0f8ff;}#sk-container-id-1 input.sk-toggleable__control:checked~div.sk-toggleable__content {max-height: 200px;max-width: 100%;overflow: auto;}#sk-container-id-1 input.sk-toggleable__control:checked~label.sk-toggleable__label-arrow:before {content: \"▾\";}#sk-container-id-1 div.sk-estimator input.sk-toggleable__control:checked~label.sk-toggleable__label {background-color: #d4ebff;}#sk-container-id-1 div.sk-label input.sk-toggleable__control:checked~label.sk-toggleable__label {background-color: #d4ebff;}#sk-container-id-1 input.sk-hidden--visually {border: 0;clip: rect(1px 1px 1px 1px);clip: rect(1px, 1px, 1px, 1px);height: 1px;margin: -1px;overflow: hidden;padding: 0;position: absolute;width: 1px;}#sk-container-id-1 div.sk-estimator {font-family: monospace;background-color: #f0f8ff;border: 1px dotted black;border-radius: 0.25em;box-sizing: border-box;margin-bottom: 0.5em;}#sk-container-id-1 div.sk-estimator:hover {background-color: #d4ebff;}#sk-container-id-1 div.sk-parallel-item::after {content: \"\";width: 100%;border-bottom: 1px solid gray;flex-grow: 1;}#sk-container-id-1 div.sk-label:hover label.sk-toggleable__label {background-color: #d4ebff;}#sk-container-id-1 div.sk-serial::before {content: \"\";position: absolute;border-left: 1px solid gray;box-sizing: border-box;top: 0;bottom: 0;left: 50%;z-index: 0;}#sk-container-id-1 div.sk-serial {display: flex;flex-direction: column;align-items: center;background-color: white;padding-right: 0.2em;padding-left: 0.2em;position: relative;}#sk-container-id-1 div.sk-item {position: relative;z-index: 1;}#sk-container-id-1 div.sk-parallel {display: flex;align-items: stretch;justify-content: center;background-color: white;position: relative;}#sk-container-id-1 div.sk-item::before, #sk-container-id-1 div.sk-parallel-item::before {content: \"\";position: absolute;border-left: 1px solid gray;box-sizing: border-box;top: 0;bottom: 0;left: 50%;z-index: -1;}#sk-container-id-1 div.sk-parallel-item {display: flex;flex-direction: column;z-index: 1;position: relative;background-color: white;}#sk-container-id-1 div.sk-parallel-item:first-child::after {align-self: flex-end;width: 50%;}#sk-container-id-1 div.sk-parallel-item:last-child::after {align-self: flex-start;width: 50%;}#sk-container-id-1 div.sk-parallel-item:only-child::after {width: 0;}#sk-container-id-1 div.sk-dashed-wrapped {border: 1px dashed gray;margin: 0 0.4em 0.5em 0.4em;box-sizing: border-box;padding-bottom: 0.4em;background-color: white;}#sk-container-id-1 div.sk-label label {font-family: monospace;font-weight: bold;display: inline-block;line-height: 1.2em;}#sk-container-id-1 div.sk-label-container {text-align: center;}#sk-container-id-1 div.sk-container {/* jupyter's `normalize.less` sets `[hidden] { display: none; }` but bootstrap.min.css set `[hidden] { display: none !important; }` so we also need the `!important` here to be able to override the default hidden behavior on the sphinx rendered scikit-learn.org. See: https://github.com/scikit-learn/scikit-learn/issues/21755 */display: inline-block !important;position: relative;}#sk-container-id-1 div.sk-text-repr-fallback {display: none;}</style><div id=\"sk-container-id-1\" class=\"sk-top-container\"><div class=\"sk-text-repr-fallback\"><pre>LabelEncoder()</pre><b>In a Jupyter environment, please rerun this cell to show the HTML representation or trust the notebook. <br />On GitHub, the HTML representation is unable to render, please try loading this page with nbviewer.org.</b></div><div class=\"sk-container\" hidden><div class=\"sk-item\"><div class=\"sk-estimator sk-toggleable\"><input class=\"sk-toggleable__control sk-hidden--visually\" id=\"sk-estimator-id-1\" type=\"checkbox\" checked><label for=\"sk-estimator-id-1\" class=\"sk-toggleable__label sk-toggleable__label-arrow\">LabelEncoder</label><div class=\"sk-toggleable__content\"><pre>LabelEncoder()</pre></div></div></div></div></div>"
      ],
      "text/plain": [
       "LabelEncoder()"
      ]
     },
     "execution_count": 10,
     "metadata": {},
     "output_type": "execute_result"
    }
   ],
   "source": [
    "label_encoder = LabelEncoder()\n",
    "label_encoder"
   ]
  },
  {
   "cell_type": "code",
   "execution_count": 11,
   "id": "0b498e7e-9f48-4c5e-997c-cacd3d4e9a60",
   "metadata": {},
   "outputs": [],
   "source": [
    "df['driveway'] = label_encoder.fit_transform(df['driveway'])"
   ]
  },
  {
   "cell_type": "code",
   "execution_count": 12,
   "id": "39d39cad-225c-4669-b0fc-ecde7662bd2e",
   "metadata": {},
   "outputs": [
    {
     "data": {
      "text/html": [
       "<div>\n",
       "<style scoped>\n",
       "    .dataframe tbody tr th:only-of-type {\n",
       "        vertical-align: middle;\n",
       "    }\n",
       "\n",
       "    .dataframe tbody tr th {\n",
       "        vertical-align: top;\n",
       "    }\n",
       "\n",
       "    .dataframe thead th {\n",
       "        text-align: right;\n",
       "    }\n",
       "</style>\n",
       "<table border=\"1\" class=\"dataframe\">\n",
       "  <thead>\n",
       "    <tr style=\"text-align: right;\">\n",
       "      <th></th>\n",
       "      <th>price</th>\n",
       "      <th>lotsize</th>\n",
       "      <th>bedrooms</th>\n",
       "      <th>bathrms</th>\n",
       "      <th>stories</th>\n",
       "      <th>driveway</th>\n",
       "      <th>garagepl</th>\n",
       "    </tr>\n",
       "  </thead>\n",
       "  <tbody>\n",
       "    <tr>\n",
       "      <th>0</th>\n",
       "      <td>42000.0</td>\n",
       "      <td>5850.0</td>\n",
       "      <td>3.0</td>\n",
       "      <td>1.0</td>\n",
       "      <td>2.0</td>\n",
       "      <td>1</td>\n",
       "      <td>1.0</td>\n",
       "    </tr>\n",
       "    <tr>\n",
       "      <th>1</th>\n",
       "      <td>38500.0</td>\n",
       "      <td>4000.0</td>\n",
       "      <td>2.0</td>\n",
       "      <td>1.0</td>\n",
       "      <td>1.0</td>\n",
       "      <td>1</td>\n",
       "      <td>0.0</td>\n",
       "    </tr>\n",
       "    <tr>\n",
       "      <th>2</th>\n",
       "      <td>49500.0</td>\n",
       "      <td>3060.0</td>\n",
       "      <td>3.0</td>\n",
       "      <td>1.0</td>\n",
       "      <td>1.0</td>\n",
       "      <td>1</td>\n",
       "      <td>0.0</td>\n",
       "    </tr>\n",
       "    <tr>\n",
       "      <th>3</th>\n",
       "      <td>60500.0</td>\n",
       "      <td>6650.0</td>\n",
       "      <td>3.0</td>\n",
       "      <td>1.0</td>\n",
       "      <td>2.0</td>\n",
       "      <td>1</td>\n",
       "      <td>0.0</td>\n",
       "    </tr>\n",
       "    <tr>\n",
       "      <th>4</th>\n",
       "      <td>61000.0</td>\n",
       "      <td>6360.0</td>\n",
       "      <td>2.0</td>\n",
       "      <td>1.0</td>\n",
       "      <td>1.0</td>\n",
       "      <td>1</td>\n",
       "      <td>0.0</td>\n",
       "    </tr>\n",
       "    <tr>\n",
       "      <th>...</th>\n",
       "      <td>...</td>\n",
       "      <td>...</td>\n",
       "      <td>...</td>\n",
       "      <td>...</td>\n",
       "      <td>...</td>\n",
       "      <td>...</td>\n",
       "      <td>...</td>\n",
       "    </tr>\n",
       "    <tr>\n",
       "      <th>541</th>\n",
       "      <td>91500.0</td>\n",
       "      <td>4800.0</td>\n",
       "      <td>3.0</td>\n",
       "      <td>2.0</td>\n",
       "      <td>4.0</td>\n",
       "      <td>1</td>\n",
       "      <td>0.0</td>\n",
       "    </tr>\n",
       "    <tr>\n",
       "      <th>542</th>\n",
       "      <td>94000.0</td>\n",
       "      <td>6000.0</td>\n",
       "      <td>3.0</td>\n",
       "      <td>2.0</td>\n",
       "      <td>4.0</td>\n",
       "      <td>1</td>\n",
       "      <td>0.0</td>\n",
       "    </tr>\n",
       "    <tr>\n",
       "      <th>543</th>\n",
       "      <td>103000.0</td>\n",
       "      <td>6000.0</td>\n",
       "      <td>3.0</td>\n",
       "      <td>2.0</td>\n",
       "      <td>4.0</td>\n",
       "      <td>1</td>\n",
       "      <td>1.0</td>\n",
       "    </tr>\n",
       "    <tr>\n",
       "      <th>544</th>\n",
       "      <td>105000.0</td>\n",
       "      <td>6000.0</td>\n",
       "      <td>3.0</td>\n",
       "      <td>2.0</td>\n",
       "      <td>2.0</td>\n",
       "      <td>1</td>\n",
       "      <td>1.0</td>\n",
       "    </tr>\n",
       "    <tr>\n",
       "      <th>545</th>\n",
       "      <td>105000.0</td>\n",
       "      <td>6000.0</td>\n",
       "      <td>3.0</td>\n",
       "      <td>1.0</td>\n",
       "      <td>2.0</td>\n",
       "      <td>1</td>\n",
       "      <td>1.0</td>\n",
       "    </tr>\n",
       "  </tbody>\n",
       "</table>\n",
       "<p>546 rows × 7 columns</p>\n",
       "</div>"
      ],
      "text/plain": [
       "        price  lotsize  bedrooms  bathrms  stories  driveway  garagepl\n",
       "0     42000.0   5850.0       3.0      1.0      2.0         1       1.0\n",
       "1     38500.0   4000.0       2.0      1.0      1.0         1       0.0\n",
       "2     49500.0   3060.0       3.0      1.0      1.0         1       0.0\n",
       "3     60500.0   6650.0       3.0      1.0      2.0         1       0.0\n",
       "4     61000.0   6360.0       2.0      1.0      1.0         1       0.0\n",
       "..        ...      ...       ...      ...      ...       ...       ...\n",
       "541   91500.0   4800.0       3.0      2.0      4.0         1       0.0\n",
       "542   94000.0   6000.0       3.0      2.0      4.0         1       0.0\n",
       "543  103000.0   6000.0       3.0      2.0      4.0         1       1.0\n",
       "544  105000.0   6000.0       3.0      2.0      2.0         1       1.0\n",
       "545  105000.0   6000.0       3.0      1.0      2.0         1       1.0\n",
       "\n",
       "[546 rows x 7 columns]"
      ]
     },
     "execution_count": 12,
     "metadata": {},
     "output_type": "execute_result"
    }
   ],
   "source": [
    "df"
   ]
  },
  {
   "cell_type": "code",
   "execution_count": 13,
   "id": "6142e10e-50d6-4581-bb07-3b731a332711",
   "metadata": {},
   "outputs": [
    {
     "data": {
      "text/plain": [
       "array([1, 0])"
      ]
     },
     "execution_count": 13,
     "metadata": {},
     "output_type": "execute_result"
    }
   ],
   "source": [
    "df['driveway'].unique()"
   ]
  },
  {
   "cell_type": "markdown",
   "id": "de9a4a29-296a-4c0a-b9b0-19ac6ab18915",
   "metadata": {
    "jp-MarkdownHeadingCollapsed": true
   },
   "source": [
    "## Split Data"
   ]
  },
  {
   "cell_type": "code",
   "execution_count": 14,
   "id": "c6d04acc-9ea7-49cd-9cbb-5e463aaf6f1b",
   "metadata": {},
   "outputs": [
    {
     "data": {
      "text/plain": [
       "Index(['price', 'lotsize', 'bedrooms', 'bathrms', 'stories', 'driveway',\n",
       "       'garagepl'],\n",
       "      dtype='object')"
      ]
     },
     "execution_count": 14,
     "metadata": {},
     "output_type": "execute_result"
    }
   ],
   "source": [
    "df.columns"
   ]
  },
  {
   "cell_type": "code",
   "execution_count": 27,
   "id": "1482dbf7-7b78-4fd6-95f3-4fa568e820a8",
   "metadata": {},
   "outputs": [],
   "source": [
    "y = df['price']\n",
    "X = df[['lotsize', 'bedrooms', 'bathrms', 'stories', 'driveway', 'garagepl']]"
   ]
  },
  {
   "cell_type": "code",
   "execution_count": 20,
   "id": "d654c0db-8f4d-4450-89b0-e6bfdc0ca113",
   "metadata": {},
   "outputs": [
    {
     "data": {
      "text/plain": [
       "(546,)"
      ]
     },
     "execution_count": 20,
     "metadata": {},
     "output_type": "execute_result"
    }
   ],
   "source": [
    "y.shape"
   ]
  },
  {
   "cell_type": "code",
   "execution_count": 28,
   "id": "d128b713-f4ee-4d9a-a8b4-bbad6c0278c2",
   "metadata": {},
   "outputs": [
    {
     "data": {
      "text/plain": [
       "(546, 6)"
      ]
     },
     "execution_count": 28,
     "metadata": {},
     "output_type": "execute_result"
    }
   ],
   "source": [
    "X.shape"
   ]
  },
  {
   "cell_type": "code",
   "execution_count": 29,
   "id": "e58e2644-1abc-4326-a279-3265cfb40081",
   "metadata": {},
   "outputs": [],
   "source": [
    "#split\n",
    "X_train, X_test, y_train, y_test = train_test_split(X, y, test_size=0.2, random_state=1)"
   ]
  },
  {
   "cell_type": "markdown",
   "id": "98c38bbc-1947-402a-914f-b404e748391d",
   "metadata": {
    "jp-MarkdownHeadingCollapsed": true
   },
   "source": [
    "## Feature Scalling (Standardization/normalization)"
   ]
  },
  {
   "cell_type": "code",
   "execution_count": 30,
   "id": "c73719a8-7576-4958-8e02-bafe95305f17",
   "metadata": {},
   "outputs": [],
   "source": [
    "scaler = StandardScaler().fit(X_train)"
   ]
  },
  {
   "cell_type": "code",
   "execution_count": 31,
   "id": "69c81f90-2eb5-4c80-87b1-c750cbd09d48",
   "metadata": {},
   "outputs": [
    {
     "data": {
      "text/plain": [
       "array([5.14356651e+03, 2.95183486e+00, 1.29357798e+00, 1.77293578e+00,\n",
       "       8.55504587e-01, 6.76605505e-01])"
      ]
     },
     "execution_count": 31,
     "metadata": {},
     "output_type": "execute_result"
    }
   ],
   "source": [
    "scaler.mean_\n",
    "#mean for every column under the dataset"
   ]
  },
  {
   "cell_type": "code",
   "execution_count": 32,
   "id": "5448cff0-621b-4e3c-9e76-3846a4f8eaad",
   "metadata": {},
   "outputs": [
    {
     "data": {
      "text/plain": [
       "array([2.15790699e+03, 7.29440737e-01, 5.16742661e-01, 8.49339520e-01,\n",
       "       3.51591366e-01, 8.66556742e-01])"
      ]
     },
     "execution_count": 32,
     "metadata": {},
     "output_type": "execute_result"
    }
   ],
   "source": [
    "# get the varience\n",
    "scaler.scale_"
   ]
  },
  {
   "cell_type": "code",
   "execution_count": 33,
   "id": "b746fca3-2bfd-4b52-8fc8-0520da77779a",
   "metadata": {},
   "outputs": [
    {
     "data": {
      "text/plain": [
       "array([[-0.48360125, -1.30488306,  1.36706735, -0.91004335,  0.41097543,\n",
       "        -0.78079769],\n",
       "       [-0.64811251,  0.06603023, -0.56813188,  0.26734211,  0.41097543,\n",
       "        -0.78079769],\n",
       "       [ 0.70273348,  1.43694352,  1.36706735,  0.26734211,  0.41097543,\n",
       "         0.37319483],\n",
       "       ...,\n",
       "       [-1.53276603, -1.30488306, -0.56813188, -0.91004335, -2.43323548,\n",
       "        -0.78079769],\n",
       "       [-0.36682142,  1.43694352, -0.56813188,  0.26734211, -2.43323548,\n",
       "         0.37319483],\n",
       "       [ 0.01224959,  0.06603023, -0.56813188,  2.62211303,  0.41097543,\n",
       "        -0.78079769]])"
      ]
     },
     "execution_count": 33,
     "metadata": {},
     "output_type": "execute_result"
    }
   ],
   "source": [
    "#transform\n",
    "X_train_scaled = scaler.transform(X_train)\n",
    "X_train_scaled"
   ]
  },
  {
   "cell_type": "code",
   "execution_count": 34,
   "id": "a3a11459-4453-45ee-860f-aa4fc684589a",
   "metadata": {},
   "outputs": [
    {
     "data": {
      "text/plain": [
       "array([ 3.66679164e-17, -2.03710647e-16, -5.39833214e-17, -3.76864696e-17,\n",
       "       -1.30374814e-16,  2.95380438e-17])"
      ]
     },
     "execution_count": 34,
     "metadata": {},
     "output_type": "execute_result"
    }
   ],
   "source": [
    "X_train_scaled.mean(axis=0)\n",
    "#its mean should be 0 if its standardized"
   ]
  },
  {
   "cell_type": "code",
   "execution_count": 35,
   "id": "a44f092f-f222-4aa2-b214-929e8745f18f",
   "metadata": {},
   "outputs": [
    {
     "data": {
      "text/plain": [
       "array([1., 1., 1., 1., 1., 1.])"
      ]
     },
     "execution_count": 35,
     "metadata": {},
     "output_type": "execute_result"
    }
   ],
   "source": [
    "X_train_scaled.std(axis=0)\n",
    "#std should be 1"
   ]
  },
  {
   "cell_type": "markdown",
   "id": "697214cf-5f32-4c5e-98f4-1e2a0d376ccc",
   "metadata": {
    "jp-MarkdownHeadingCollapsed": true
   },
   "source": [
    "### Test"
   ]
  },
  {
   "cell_type": "code",
   "execution_count": 36,
   "id": "3a146505-25cc-49e3-886d-66c94ebeb48c",
   "metadata": {},
   "outputs": [],
   "source": [
    "scaler1 = StandardScaler().fit(X_test)"
   ]
  },
  {
   "cell_type": "code",
   "execution_count": 37,
   "id": "71a3095b-a10b-4e34-9689-c94af12f64f1",
   "metadata": {},
   "outputs": [
    {
     "data": {
      "text/plain": [
       "array([5.17681818e+03, 3.01818182e+00, 1.25454545e+00, 1.94545455e+00,\n",
       "       8.72727273e-01, 7.54545455e-01])"
      ]
     },
     "execution_count": 37,
     "metadata": {},
     "output_type": "execute_result"
    }
   ],
   "source": [
    "scaler1.mean_\n",
    "#mean for every column under the dataset"
   ]
  },
  {
   "cell_type": "code",
   "execution_count": 38,
   "id": "0c2569ca-acc9-4ae6-b1ea-60227215dba3",
   "metadata": {},
   "outputs": [
    {
     "data": {
      "text/plain": [
       "array([2.19842668e+03, 7.62553345e-01, 4.35605402e-01, 9.22805639e-01,\n",
       "       3.33278232e-01, 8.33245174e-01])"
      ]
     },
     "execution_count": 38,
     "metadata": {},
     "output_type": "execute_result"
    }
   ],
   "source": [
    "# get the varience\n",
    "scaler1.scale_"
   ]
  },
  {
   "cell_type": "code",
   "execution_count": 39,
   "id": "f6ac3aa6-9095-4bcb-ba2d-4c1aa792544e",
   "metadata": {},
   "outputs": [
    {
     "data": {
      "text/plain": [
       "array([[-0.37609541, -1.335227  , -0.58434871, -1.02454353,  0.38188131,\n",
       "        -0.90555034],\n",
       "       [ 0.40173358, -0.02384334, -0.58434871, -1.02454353,  0.38188131,\n",
       "        -0.90555034],\n",
       "       [-0.78547909, -0.02384334, -0.58434871,  0.05910828,  0.38188131,\n",
       "         0.29457662],\n",
       "       [ 1.27508543, -0.02384334, -0.58434871, -1.02454353,  0.38188131,\n",
       "         0.29457662],\n",
       "       [-0.13501391, -0.02384334, -0.58434871, -1.02454353,  0.38188131,\n",
       "         1.49470358],\n",
       "       [ 0.48997851,  1.28754033,  1.71130694, -1.02454353,  0.38188131,\n",
       "         0.29457662],\n",
       "       [-0.71724847, -1.335227  , -0.58434871, -1.02454353,  0.38188131,\n",
       "        -0.90555034],\n",
       "       [-0.94923256, -0.02384334, -0.58434871,  0.05910828, -2.61861468,\n",
       "        -0.90555034],\n",
       "       [ 0.10151888,  1.28754033, -0.58434871,  0.05910828,  0.38188131,\n",
       "        -0.90555034],\n",
       "       [ 0.64736379, -0.02384334,  1.71130694,  1.14276009,  0.38188131,\n",
       "        -0.90555034],\n",
       "       [-1.04930413, -1.335227  , -0.58434871,  0.05910828,  0.38188131,\n",
       "        -0.90555034],\n",
       "       [ 2.17572952, -0.02384334,  1.71130694,  0.05910828,  0.38188131,\n",
       "         1.49470358],\n",
       "       [-1.24944726, -0.02384334, -0.58434871, -1.02454353, -2.61861468,\n",
       "        -0.90555034],\n",
       "       [ 0.97487073,  1.28754033,  1.71130694,  0.05910828,  0.38188131,\n",
       "        -0.90555034],\n",
       "       [ 0.37444133, -0.02384334,  1.71130694,  2.2264119 ,  0.38188131,\n",
       "        -0.90555034],\n",
       "       [ 0.30621072, -0.02384334, -0.58434871,  0.05910828,  0.38188131,\n",
       "         0.29457662],\n",
       "       [-0.3078648 , -1.335227  , -0.58434871, -1.02454353, -2.61861468,\n",
       "        -0.90555034],\n",
       "       [-1.3654393 , -0.02384334, -0.58434871,  0.05910828, -2.61861468,\n",
       "        -0.90555034],\n",
       "       [ 3.64951076, -0.02384334, -0.58434871,  0.05910828,  0.38188131,\n",
       "         1.49470358],\n",
       "       [ 2.30309333, -1.335227  , -0.58434871, -1.02454353,  0.38188131,\n",
       "         1.49470358],\n",
       "       [ 0.82931209, -0.02384334, -0.58434871,  0.05910828,  0.38188131,\n",
       "        -0.90555034],\n",
       "       [ 1.68219475, -0.02384334, -0.58434871, -1.02454353,  0.38188131,\n",
       "         0.29457662],\n",
       "       [ 2.35767782, -1.335227  , -0.58434871, -1.02454353,  0.38188131,\n",
       "         0.29457662],\n",
       "       [-0.53530017, -0.02384334,  1.71130694,  0.05910828,  0.38188131,\n",
       "         0.29457662],\n",
       "       [-0.24145367, -0.02384334, -0.58434871,  0.05910828,  0.38188131,\n",
       "         1.49470358],\n",
       "       [-1.03110929, -1.335227  , -0.58434871, -1.02454353, -2.61861468,\n",
       "        -0.90555034],\n",
       "       [-0.49891051, -1.335227  , -0.58434871, -1.02454353,  0.38188131,\n",
       "        -0.90555034],\n",
       "       [-0.68085881, -0.02384334,  1.71130694,  0.05910828,  0.38188131,\n",
       "        -0.90555034],\n",
       "       [ 0.14700596, -0.02384334,  1.71130694,  2.2264119 ,  0.38188131,\n",
       "         0.29457662],\n",
       "       [ 0.93438723, -0.02384334, -0.58434871,  0.05910828,  0.38188131,\n",
       "        -0.90555034],\n",
       "       [-0.29876738, -0.02384334, -0.58434871,  0.05910828,  0.38188131,\n",
       "        -0.90555034],\n",
       "       [-0.60353079, -0.02384334, -0.58434871, -1.02454353,  0.38188131,\n",
       "         1.49470358],\n",
       "       [ 1.7390536 , -0.02384334, -0.58434871,  0.05910828,  0.38188131,\n",
       "         1.49470358],\n",
       "       [-0.75363814, -1.335227  , -0.58434871,  0.05910828,  0.38188131,\n",
       "        -0.90555034],\n",
       "       [-1.46778522, -0.02384334,  1.71130694,  0.05910828,  0.38188131,\n",
       "        -0.90555034],\n",
       "       [-1.37908542, -0.02384334, -0.58434871,  1.14276009,  0.38188131,\n",
       "        -0.90555034],\n",
       "       [-0.30331609,  1.28754033, -0.58434871,  0.05910828,  0.38188131,\n",
       "         1.49470358],\n",
       "       [-0.1259165 , -0.02384334, -0.58434871,  0.05910828, -2.61861468,\n",
       "        -0.90555034],\n",
       "       [-0.79912521, -1.335227  , -0.58434871,  0.05910828,  0.38188131,\n",
       "         0.29457662],\n",
       "       [-1.08114508, -0.02384334,  1.71130694,  0.05910828, -2.61861468,\n",
       "         0.29457662],\n",
       "       [ 0.37444133, -1.335227  , -0.58434871, -1.02454353,  0.38188131,\n",
       "         0.29457662],\n",
       "       [-0.38974153, -0.02384334, -0.58434871, -1.02454353, -2.61861468,\n",
       "         0.29457662],\n",
       "       [ 0.23798011, -0.02384334, -0.58434871, -1.02454353,  0.38188131,\n",
       "         1.49470358],\n",
       "       [-0.26237772, -1.335227  ,  1.71130694, -1.02454353,  0.38188131,\n",
       "         1.49470358],\n",
       "       [ 0.53819481, -1.335227  , -0.58434871,  0.05910828,  0.38188131,\n",
       "        -0.90555034],\n",
       "       [-1.37908542, -0.02384334, -0.58434871,  0.05910828,  0.38188131,\n",
       "        -0.90555034],\n",
       "       [ 1.46613114, -1.335227  , -0.58434871, -1.02454353,  0.38188131,\n",
       "         0.29457662],\n",
       "       [-0.76273555,  1.28754033, -0.58434871,  0.05910828,  0.38188131,\n",
       "         1.49470358],\n",
       "       [-0.78093038,  1.28754033, -0.58434871,  0.05910828,  0.38188131,\n",
       "        -0.90555034],\n",
       "       [-0.77183297, -0.02384334, -0.58434871,  0.05910828, -2.61861468,\n",
       "         0.29457662],\n",
       "       [ 0.64736379, -1.335227  ,  1.71130694,  2.2264119 ,  0.38188131,\n",
       "        -0.90555034],\n",
       "       [-0.69905364,  1.28754033, -0.58434871,  0.05910828,  0.38188131,\n",
       "        -0.90555034],\n",
       "       [-0.16458051, -1.335227  , -0.58434871, -1.02454353,  0.38188131,\n",
       "        -0.90555034],\n",
       "       [ 0.37444133,  1.28754033,  1.71130694,  2.2264119 ,  0.38188131,\n",
       "         0.29457662],\n",
       "       [-0.87008505, -1.335227  , -0.58434871, -1.02454353,  0.38188131,\n",
       "        -0.90555034],\n",
       "       [ 0.53819481, -0.02384334, -0.58434871,  1.14276009,  0.38188131,\n",
       "        -0.90555034],\n",
       "       [ 0.14700596, -0.02384334, -0.58434871,  0.05910828,  0.38188131,\n",
       "        -0.90555034],\n",
       "       [-0.40793636, -1.335227  , -0.58434871, -1.02454353,  0.38188131,\n",
       "         1.49470358],\n",
       "       [ 2.04245239,  1.28754033,  1.71130694,  0.05910828,  0.38188131,\n",
       "         0.29457662],\n",
       "       [-0.78547909, -0.02384334, -0.58434871,  0.05910828,  0.38188131,\n",
       "        -0.90555034],\n",
       "       [ 0.53819481, -0.02384334,  1.71130694,  2.2264119 ,  0.38188131,\n",
       "        -0.90555034],\n",
       "       [-0.51437612, -0.02384334, -0.58434871,  0.05910828,  0.38188131,\n",
       "         0.29457662],\n",
       "       [-0.76273555,  1.28754033, -0.58434871,  0.05910828,  0.38188131,\n",
       "         1.49470358],\n",
       "       [-0.51710534, -1.335227  , -0.58434871, -1.02454353,  0.38188131,\n",
       "         0.29457662],\n",
       "       [-0.77183297,  1.28754033, -0.58434871,  0.05910828, -2.61861468,\n",
       "         0.29457662],\n",
       "       [-0.99017093, -0.02384334, -0.58434871,  0.05910828,  0.38188131,\n",
       "        -0.90555034],\n",
       "       [-0.50118487, -0.02384334, -0.58434871, -1.02454353,  0.38188131,\n",
       "         1.49470358],\n",
       "       [ 0.14700596, -0.02384334,  1.71130694, -1.02454353,  0.38188131,\n",
       "         1.49470358],\n",
       "       [ 0.53819481,  1.28754033,  1.71130694,  1.14276009,  0.38188131,\n",
       "         1.49470358],\n",
       "       [ 0.64736379, -0.02384334, -0.58434871, -1.02454353,  0.38188131,\n",
       "        -0.90555034],\n",
       "       [ 0.62007154,  1.28754033,  1.71130694,  0.05910828,  0.38188131,\n",
       "         1.49470358],\n",
       "       [-0.35335187,  1.28754033, -0.58434871,  0.05910828,  0.38188131,\n",
       "         1.49470358],\n",
       "       [ 2.85803565, -0.02384334, -0.58434871,  1.14276009,  0.38188131,\n",
       "         1.49470358],\n",
       "       [ 0.7155944 , -1.335227  , -0.58434871, -1.02454353,  0.38188131,\n",
       "        -0.90555034],\n",
       "       [ 0.61324848, -0.02384334,  1.71130694,  2.2264119 ,  0.38188131,\n",
       "         0.29457662],\n",
       "       [-1.2176063 , -1.335227  , -0.58434871, -1.02454353, -2.61861468,\n",
       "        -0.90555034],\n",
       "       [-0.48071568, -1.335227  , -0.58434871, -1.02454353,  0.38188131,\n",
       "         0.29457662],\n",
       "       [-0.54985604, -0.02384334, -0.58434871,  0.05910828, -2.61861468,\n",
       "        -0.90555034],\n",
       "       [ 0.53819481, -1.335227  , -0.58434871, -1.02454353,  0.38188131,\n",
       "        -0.90555034],\n",
       "       [-0.70360235,  1.28754033, -0.58434871,  0.05910828,  0.38188131,\n",
       "         2.69483054],\n",
       "       [ 0.39263616, -0.02384334, -0.58434871, -1.02454353,  0.38188131,\n",
       "         1.49470358],\n",
       "       [ 0.26072365, -0.02384334,  1.71130694,  2.2264119 ,  0.38188131,\n",
       "         0.29457662],\n",
       "       [ 0.64736379,  1.28754033,  1.71130694,  0.05910828,  0.38188131,\n",
       "         0.29457662],\n",
       "       [-0.54166836, -1.335227  ,  1.71130694, -1.02454353, -2.61861468,\n",
       "         0.29457662],\n",
       "       [ 0.37444133,  1.28754033,  1.71130694,  2.2264119 ,  0.38188131,\n",
       "         0.29457662],\n",
       "       [-0.99017093,  1.28754033, -0.58434871,  1.14276009,  0.38188131,\n",
       "         1.49470358],\n",
       "       [-0.68995623,  1.28754033, -0.58434871,  0.05910828, -2.61861468,\n",
       "        -0.90555034],\n",
       "       [-0.53530017, -0.02384334,  1.71130694,  0.05910828,  0.38188131,\n",
       "        -0.90555034],\n",
       "       [ 0.37444133,  1.28754033,  1.71130694,  2.2264119 ,  0.38188131,\n",
       "        -0.90555034],\n",
       "       [-0.90829419, -1.335227  ,  1.71130694, -1.02454353,  0.38188131,\n",
       "         1.49470358],\n",
       "       [-0.80822263, -0.02384334, -0.58434871,  0.05910828,  0.38188131,\n",
       "         1.49470358],\n",
       "       [-0.71724847, -0.02384334, -0.58434871, -1.02454353,  0.38188131,\n",
       "        -0.90555034],\n",
       "       [-0.17140357, -0.02384334,  1.71130694,  2.2264119 ,  0.38188131,\n",
       "        -0.90555034],\n",
       "       [ 3.64951076, -1.335227  , -0.58434871, -1.02454353,  0.38188131,\n",
       "         0.29457662],\n",
       "       [-0.24418289,  1.28754033, -0.58434871,  0.05910828,  0.38188131,\n",
       "         0.29457662],\n",
       "       [-0.60353079, -0.02384334, -0.58434871,  0.05910828,  0.38188131,\n",
       "        -0.90555034],\n",
       "       [-0.071332  , -0.02384334, -0.58434871,  2.2264119 ,  0.38188131,\n",
       "        -0.90555034],\n",
       "       [-0.46252085, -0.02384334, -0.58434871, -1.02454353,  0.38188131,\n",
       "        -0.90555034],\n",
       "       [ 0.08332405, -0.02384334, -0.58434871,  0.05910828,  0.38188131,\n",
       "         1.49470358],\n",
       "       [-0.3078648 , -0.02384334,  1.71130694,  1.14276009,  0.38188131,\n",
       "         0.29457662],\n",
       "       [ 0.10151888, -1.335227  , -0.58434871,  0.05910828,  0.38188131,\n",
       "        -0.90555034],\n",
       "       [-0.60353079, -0.02384334, -0.58434871, -1.02454353,  0.38188131,\n",
       "        -0.90555034],\n",
       "       [ 0.01054473,  1.28754033, -0.58434871,  1.14276009,  0.38188131,\n",
       "        -0.90555034],\n",
       "       [-0.71724847,  3.91030766, -0.58434871,  0.05910828,  0.38188131,\n",
       "         0.29457662],\n",
       "       [ 0.75653277,  2.59892399, -0.58434871,  0.05910828,  0.38188131,\n",
       "         0.29457662],\n",
       "       [-0.75363814, -0.02384334, -0.58434871, -1.02454353,  0.38188131,\n",
       "        -0.90555034],\n",
       "       [ 1.0203578 ,  1.28754033, -0.58434871,  0.05910828,  0.38188131,\n",
       "         1.49470358],\n",
       "       [-0.06223459, -0.02384334, -0.58434871,  0.05910828,  0.38188131,\n",
       "        -0.90555034],\n",
       "       [-1.37908542, -0.02384334, -0.58434871,  0.05910828,  0.38188131,\n",
       "        -0.90555034],\n",
       "       [ 0.29620356,  1.28754033, -0.58434871,  2.2264119 ,  0.38188131,\n",
       "        -0.90555034]])"
      ]
     },
     "execution_count": 39,
     "metadata": {},
     "output_type": "execute_result"
    }
   ],
   "source": [
    "#transform\n",
    "X_test_scaled = scaler1.transform(X_test)\n",
    "X_test_scaled"
   ]
  },
  {
   "cell_type": "code",
   "execution_count": 40,
   "id": "8ab51772-eb47-44d6-a939-ade3305ff700",
   "metadata": {},
   "outputs": [
    {
     "data": {
      "text/plain": [
       "array([-9.08364293e-17,  1.21115239e-16, -1.79654271e-16, -9.28550166e-17,\n",
       "        1.54421930e-16,  1.06985128e-16])"
      ]
     },
     "execution_count": 40,
     "metadata": {},
     "output_type": "execute_result"
    }
   ],
   "source": [
    "X_test_scaled.mean(axis=0)\n",
    "#its mean should be 0 if its standardized"
   ]
  },
  {
   "cell_type": "code",
   "execution_count": 41,
   "id": "4632194f-d2f2-45af-805d-821ab6d319de",
   "metadata": {},
   "outputs": [
    {
     "data": {
      "text/plain": [
       "array([1., 1., 1., 1., 1., 1.])"
      ]
     },
     "execution_count": 41,
     "metadata": {},
     "output_type": "execute_result"
    }
   ],
   "source": [
    "X_test_scaled.std(axis=0)\n",
    "#std should be 1"
   ]
  },
  {
   "cell_type": "markdown",
   "id": "b60fe926-1ed3-4fcd-89f3-f5a2e017ae97",
   "metadata": {},
   "source": [
    "# Simple Linear Regression"
   ]
  },
  {
   "cell_type": "markdown",
   "id": "b45ff79f-5b55-4fc4-b56f-45154c323af9",
   "metadata": {
    "jp-MarkdownHeadingCollapsed": true
   },
   "source": [
    "## Build Linear Regression"
   ]
  },
  {
   "cell_type": "code",
   "execution_count": 43,
   "id": "adf5c719-0838-41fa-a703-52554a41f889",
   "metadata": {},
   "outputs": [],
   "source": [
    "model = linear_model.LinearRegression()"
   ]
  },
  {
   "cell_type": "markdown",
   "id": "a912793e-bd11-4c2e-bf66-052e6a56bab8",
   "metadata": {},
   "source": [
    "## Build Training Model"
   ]
  },
  {
   "cell_type": "code",
   "execution_count": 46,
   "id": "aadff95a-4e5c-410b-a20f-2b7c91b686d6",
   "metadata": {},
   "outputs": [
    {
     "data": {
      "text/html": [
       "<style>#sk-container-id-4 {color: black;background-color: white;}#sk-container-id-4 pre{padding: 0;}#sk-container-id-4 div.sk-toggleable {background-color: white;}#sk-container-id-4 label.sk-toggleable__label {cursor: pointer;display: block;width: 100%;margin-bottom: 0;padding: 0.3em;box-sizing: border-box;text-align: center;}#sk-container-id-4 label.sk-toggleable__label-arrow:before {content: \"▸\";float: left;margin-right: 0.25em;color: #696969;}#sk-container-id-4 label.sk-toggleable__label-arrow:hover:before {color: black;}#sk-container-id-4 div.sk-estimator:hover label.sk-toggleable__label-arrow:before {color: black;}#sk-container-id-4 div.sk-toggleable__content {max-height: 0;max-width: 0;overflow: hidden;text-align: left;background-color: #f0f8ff;}#sk-container-id-4 div.sk-toggleable__content pre {margin: 0.2em;color: black;border-radius: 0.25em;background-color: #f0f8ff;}#sk-container-id-4 input.sk-toggleable__control:checked~div.sk-toggleable__content {max-height: 200px;max-width: 100%;overflow: auto;}#sk-container-id-4 input.sk-toggleable__control:checked~label.sk-toggleable__label-arrow:before {content: \"▾\";}#sk-container-id-4 div.sk-estimator input.sk-toggleable__control:checked~label.sk-toggleable__label {background-color: #d4ebff;}#sk-container-id-4 div.sk-label input.sk-toggleable__control:checked~label.sk-toggleable__label {background-color: #d4ebff;}#sk-container-id-4 input.sk-hidden--visually {border: 0;clip: rect(1px 1px 1px 1px);clip: rect(1px, 1px, 1px, 1px);height: 1px;margin: -1px;overflow: hidden;padding: 0;position: absolute;width: 1px;}#sk-container-id-4 div.sk-estimator {font-family: monospace;background-color: #f0f8ff;border: 1px dotted black;border-radius: 0.25em;box-sizing: border-box;margin-bottom: 0.5em;}#sk-container-id-4 div.sk-estimator:hover {background-color: #d4ebff;}#sk-container-id-4 div.sk-parallel-item::after {content: \"\";width: 100%;border-bottom: 1px solid gray;flex-grow: 1;}#sk-container-id-4 div.sk-label:hover label.sk-toggleable__label {background-color: #d4ebff;}#sk-container-id-4 div.sk-serial::before {content: \"\";position: absolute;border-left: 1px solid gray;box-sizing: border-box;top: 0;bottom: 0;left: 50%;z-index: 0;}#sk-container-id-4 div.sk-serial {display: flex;flex-direction: column;align-items: center;background-color: white;padding-right: 0.2em;padding-left: 0.2em;position: relative;}#sk-container-id-4 div.sk-item {position: relative;z-index: 1;}#sk-container-id-4 div.sk-parallel {display: flex;align-items: stretch;justify-content: center;background-color: white;position: relative;}#sk-container-id-4 div.sk-item::before, #sk-container-id-4 div.sk-parallel-item::before {content: \"\";position: absolute;border-left: 1px solid gray;box-sizing: border-box;top: 0;bottom: 0;left: 50%;z-index: -1;}#sk-container-id-4 div.sk-parallel-item {display: flex;flex-direction: column;z-index: 1;position: relative;background-color: white;}#sk-container-id-4 div.sk-parallel-item:first-child::after {align-self: flex-end;width: 50%;}#sk-container-id-4 div.sk-parallel-item:last-child::after {align-self: flex-start;width: 50%;}#sk-container-id-4 div.sk-parallel-item:only-child::after {width: 0;}#sk-container-id-4 div.sk-dashed-wrapped {border: 1px dashed gray;margin: 0 0.4em 0.5em 0.4em;box-sizing: border-box;padding-bottom: 0.4em;background-color: white;}#sk-container-id-4 div.sk-label label {font-family: monospace;font-weight: bold;display: inline-block;line-height: 1.2em;}#sk-container-id-4 div.sk-label-container {text-align: center;}#sk-container-id-4 div.sk-container {/* jupyter's `normalize.less` sets `[hidden] { display: none; }` but bootstrap.min.css set `[hidden] { display: none !important; }` so we also need the `!important` here to be able to override the default hidden behavior on the sphinx rendered scikit-learn.org. See: https://github.com/scikit-learn/scikit-learn/issues/21755 */display: inline-block !important;position: relative;}#sk-container-id-4 div.sk-text-repr-fallback {display: none;}</style><div id=\"sk-container-id-4\" class=\"sk-top-container\"><div class=\"sk-text-repr-fallback\"><pre>LinearRegression()</pre><b>In a Jupyter environment, please rerun this cell to show the HTML representation or trust the notebook. <br />On GitHub, the HTML representation is unable to render, please try loading this page with nbviewer.org.</b></div><div class=\"sk-container\" hidden><div class=\"sk-item\"><div class=\"sk-estimator sk-toggleable\"><input class=\"sk-toggleable__control sk-hidden--visually\" id=\"sk-estimator-id-4\" type=\"checkbox\" checked><label for=\"sk-estimator-id-4\" class=\"sk-toggleable__label sk-toggleable__label-arrow\">LinearRegression</label><div class=\"sk-toggleable__content\"><pre>LinearRegression()</pre></div></div></div></div></div>"
      ],
      "text/plain": [
       "LinearRegression()"
      ]
     },
     "execution_count": 46,
     "metadata": {},
     "output_type": "execute_result"
    }
   ],
   "source": [
    "model.fit(X_train, y_train)"
   ]
  },
  {
   "cell_type": "markdown",
   "id": "aac24efa-4459-47ae-af54-a1de6c5aac41",
   "metadata": {},
   "source": [
    "## Make prediction with trained model"
   ]
  },
  {
   "cell_type": "code",
   "execution_count": 47,
   "id": "d6f698d8-c730-42da-881e-4a06ac90e34a",
   "metadata": {},
   "outputs": [],
   "source": [
    "y_pred = model.predict(X_test)"
   ]
  },
  {
   "cell_type": "markdown",
   "id": "0c761c0b-22e6-42c6-9bb6-1d3a5d796b2b",
   "metadata": {},
   "source": [
    "## Prediction Results"
   ]
  },
  {
   "cell_type": "markdown",
   "id": "e1e21415-3ba7-467d-94c7-de208d900108",
   "metadata": {},
   "source": [
    "### Print Model Performance"
   ]
  },
  {
   "cell_type": "code",
   "execution_count": 55,
   "id": "e8199215-bbab-421e-94b0-72e2f7dede38",
   "metadata": {},
   "outputs": [
    {
     "name": "stdout",
     "output_type": "stream",
     "text": [
      "Coefficients, [4.02393743e+00 3.43166434e+03 1.58137047e+04 7.53423338e+03\n",
      " 9.90935902e+03 5.33701222e+03]\n",
      "Intercept, -9131.131513727261\n",
      "Mean Squared Error 362443752.35\n",
      "Coefficient of determination 0.50\n"
     ]
    }
   ],
   "source": [
    "mse = mean_squared_error(y_test, y_pred)\n",
    "r2 = r2_score(y_test, y_pred)\n",
    "\n",
    "print(f'Coefficients, {model.coef_}')\n",
    "print(f'Intercept, {model.intercept_}')\n",
    "print(f'Mean Squared Error {mse:.2f}')\n",
    "print(f'Coefficient of determination {r2:.2f}')"
   ]
  },
  {
   "cell_type": "code",
   "execution_count": 52,
   "id": "38a052ce-a407-4240-b188-b3dfb801711e",
   "metadata": {},
   "outputs": [
    {
     "data": {
      "text/plain": [
       "Index(['price', 'lotsize', 'bedrooms', 'bathrms', 'stories', 'driveway',\n",
       "       'garagepl'],\n",
       "      dtype='object')"
      ]
     },
     "execution_count": 52,
     "metadata": {},
     "output_type": "execute_result"
    }
   ],
   "source": [
    "df.columns"
   ]
  },
  {
   "cell_type": "code",
   "execution_count": 54,
   "id": "62751ad6-82c3-4cdc-b055-cd2c921378df",
   "metadata": {},
   "outputs": [],
   "source": [
    "# Fomula of  sstraight line is Y = mx + c\n",
    "# The equation o this linear regression model(model) is [y = 4.02393743e+00(lotsize) + 3.43166434e+03(bedrooms) + 1.58137047e+04(bathrms) + 7.53423338e+03(stories) + 9.90935902e+03(driveway) + 5.33701222e+03(garagepl) -9131.131513727261]\n",
    "\n",
    "# the Coefficients are accociated to the features from the X varible so you just muliply the Coefficients by their associate feater and add everything toger plus the intercep"
   ]
  },
  {
   "cell_type": "markdown",
   "id": "451e4996-7d00-4e22-8241-9ef746cd68d4",
   "metadata": {},
   "source": [
    "# Plot"
   ]
  },
  {
   "cell_type": "code",
   "execution_count": 68,
   "id": "4fc936de-4735-49e5-8e76-3e31e88645c3",
   "metadata": {},
   "outputs": [
    {
     "data": {
      "text/plain": [
       "(110,)"
      ]
     },
     "execution_count": 68,
     "metadata": {},
     "output_type": "execute_result"
    }
   ],
   "source": [
    "y_pred.shape"
   ]
  },
  {
   "cell_type": "code",
   "execution_count": 69,
   "id": "100fb2ca-0395-4c19-b6ea-02efdefeef3e",
   "metadata": {},
   "outputs": [
    {
     "data": {
      "text/plain": [
       "(110,)"
      ]
     },
     "execution_count": 69,
     "metadata": {},
     "output_type": "execute_result"
    }
   ],
   "source": [
    "y_test_arr = np.array(y_test)\n",
    "y_test_arr.shape"
   ]
  },
  {
   "cell_type": "code",
   "execution_count": 71,
   "id": "52d2504d-966b-4e7b-96cb-958810f075ce",
   "metadata": {},
   "outputs": [
    {
     "data": {
      "text/plain": [
       "<Axes: >"
      ]
     },
     "execution_count": 71,
     "metadata": {},
     "output_type": "execute_result"
    },
    {
     "data": {
      "image/png": "[encoded data removed]",
      "text/plain": [
       "<Figure size 640x480 with 1 Axes>"
      ]
     },
     "metadata": {},
     "output_type": "display_data"
    }
   ],
   "source": [
    "sns.scatterplot(x = y_test_arr, y = y_pred, marker=\"+\")"
   ]
  },
  {
   "cell_type": "code",
   "execution_count": 75,
   "id": "09b1cd43-c23e-4277-8238-f6d235190cb7",
   "metadata": {},
   "outputs": [
    {
     "data": {
      "text/plain": [
       "<Axes: >"
      ]
     },
     "execution_count": 75,
     "metadata": {},
     "output_type": "execute_result"
    },
    {
     "data": {
      "image/png": "[encoded data removed]",
      "text/plain": [
       "<Figure size 640x480 with 1 Axes>"
      ]
     },
     "metadata": {},
     "output_type": "display_data"
    }
   ],
   "source": [
    "sns.regplot(x=y_test_arr, y=y_pred, marker=\"+\")"
   ]
  },
  {
   "cell_type": "code",
   "execution_count": null,
   "id": "0851d150-9b72-48c1-88be-2d6b3eac09e2",
   "metadata": {},
   "outputs": [],
   "source": []
  }
 ],
 "metadata": {
  "kernelspec": {
   "display_name": "Python 3 (ipykernel)",
   "language": "python",
   "name": "python3"
  },
  "language_info": {
   "codemirror_mode": {
    "name": "ipython",
    "version": 3
   },
   "file_extension": ".py",
   "mimetype": "text/x-python",
   "name": "python",
   "nbconvert_exporter": "python",
   "pygments_lexer": "ipython3",
   "version": "3.11.7"
  }
 },
 "nbformat": 4,
 "nbformat_minor": 5
}
